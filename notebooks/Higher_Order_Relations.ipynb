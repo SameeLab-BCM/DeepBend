{
  "cells": [
    {
      "cell_type": "code",
      "execution_count": 2,
      "metadata": {},
      "outputs": [
        {
          "name": "stdout",
          "output_type": "stream",
          "text": [
            "Collecting logomaker\n",
            "  Using cached logomaker-0.8-py2.py3-none-any.whl (11.8 MB)\n",
            "Requirement already satisfied: pandas in /home/samin/workspace/research/DeepBend/deepbend-env/lib/python3.8/site-packages (from logomaker) (1.4.3)\n",
            "Requirement already satisfied: numpy in /home/samin/workspace/research/DeepBend/deepbend-env/lib/python3.8/site-packages (from logomaker) (1.23.0)\n",
            "Requirement already satisfied: matplotlib in /home/samin/workspace/research/DeepBend/deepbend-env/lib/python3.8/site-packages (from logomaker) (3.5.2)\n",
            "Requirement already satisfied: kiwisolver>=1.0.1 in /home/samin/workspace/research/DeepBend/deepbend-env/lib/python3.8/site-packages (from matplotlib->logomaker) (1.4.3)\n",
            "Requirement already satisfied: fonttools>=4.22.0 in /home/samin/workspace/research/DeepBend/deepbend-env/lib/python3.8/site-packages (from matplotlib->logomaker) (4.33.3)\n",
            "Requirement already satisfied: packaging>=20.0 in /home/samin/workspace/research/DeepBend/deepbend-env/lib/python3.8/site-packages (from matplotlib->logomaker) (21.3)\n",
            "Requirement already satisfied: pillow>=6.2.0 in /home/samin/workspace/research/DeepBend/deepbend-env/lib/python3.8/site-packages (from matplotlib->logomaker) (9.2.0)\n",
            "Requirement already satisfied: pyparsing>=2.2.1 in /home/samin/workspace/research/DeepBend/deepbend-env/lib/python3.8/site-packages (from matplotlib->logomaker) (3.0.9)\n",
            "Requirement already satisfied: python-dateutil>=2.7 in /home/samin/workspace/research/DeepBend/deepbend-env/lib/python3.8/site-packages (from matplotlib->logomaker) (2.8.2)\n",
            "Requirement already satisfied: cycler>=0.10 in /home/samin/workspace/research/DeepBend/deepbend-env/lib/python3.8/site-packages (from matplotlib->logomaker) (0.11.0)\n",
            "Requirement already satisfied: pytz>=2020.1 in /home/samin/workspace/research/DeepBend/deepbend-env/lib/python3.8/site-packages (from pandas->logomaker) (2022.1)\n",
            "Requirement already satisfied: six>=1.5 in /home/samin/workspace/research/DeepBend/deepbend-env/lib/python3.8/site-packages (from python-dateutil>=2.7->matplotlib->logomaker) (1.16.0)\n",
            "Installing collected packages: logomaker\n",
            "Successfully installed logomaker-0.8\n"
          ]
        }
      ],
      "source": [
        "!pip install logomaker"
      ]
    },
    {
      "cell_type": "code",
      "execution_count": 2,
      "metadata": {
        "colab": {
          "base_uri": "https://localhost:8080/"
        },
        "id": "RYwCAtWGIMWB",
        "outputId": "b5e9607c-e21f-4d77-c1f8-f62ac03cd532"
      },
      "outputs": [],
      "source": [
        "import logomaker as lm\n",
        "import matplotlib.pyplot as plt\n",
        "import pandas as pd\n",
        "import numpy as np\n",
        "import time"
      ]
    },
    {
      "cell_type": "code",
      "execution_count": 3,
      "metadata": {},
      "outputs": [],
      "source": [
        "import os\n",
        "import sys\n",
        "module_path = os.path.abspath(os.path.join('..'))\n",
        "if module_path not in sys.path:\n",
        "    sys.path.append(module_path)"
      ]
    },
    {
      "cell_type": "code",
      "execution_count": 4,
      "metadata": {},
      "outputs": [
        {
          "name": "stderr",
          "output_type": "stream",
          "text": [
            "2022-07-02 17:27:46.789377: W tensorflow/stream_executor/platform/default/dso_loader.cc:64] Could not load dynamic library 'libcudart.so.11.0'; dlerror: libcudart.so.11.0: cannot open shared object file: No such file or directory\n",
            "2022-07-02 17:27:46.789426: I tensorflow/stream_executor/cuda/cudart_stub.cc:29] Ignore above cudart dlerror if you do not have a GPU set up on your machine.\n",
            "2022-07-02 17:27:50.225059: W tensorflow/stream_executor/platform/default/dso_loader.cc:64] Could not load dynamic library 'libcuda.so.1'; dlerror: libcuda.so.1: cannot open shared object file: No such file or directory\n",
            "2022-07-02 17:27:50.225090: W tensorflow/stream_executor/cuda/cuda_driver.cc:269] failed call to cuInit: UNKNOWN ERROR (303)\n",
            "2022-07-02 17:27:50.225113: I tensorflow/stream_executor/cuda/cuda_diagnostics.cc:156] kernel driver does not appear to be running on this host (samin-HP-Laptop-15s-eq1xxx): /proc/driver/nvidia/version does not exist\n",
            "2022-07-02 17:27:50.225652: I tensorflow/core/platform/cpu_feature_guard.cc:193] This TensorFlow binary is optimized with oneAPI Deep Neural Network Library (oneDNN) to use the following CPU instructions in performance-critical operations:  AVX2 FMA\n",
            "To enable them in other operations, rebuild TensorFlow with the appropriate compiler flags.\n"
          ]
        },
        {
          "name": "stdout",
          "output_type": "stream",
          "text": [
            "Model: \"model\"\n",
            "__________________________________________________________________________________________________\n",
            " Layer (type)                   Output Shape         Param #     Connected to                     \n",
            "==================================================================================================\n",
            " forward (InputLayer)           [(None, 50, 4)]      0           []                               \n",
            "                                                                                                  \n",
            " reverse (InputLayer)           [(None, 50, 4)]      0           []                               \n",
            "                                                                                                  \n",
            " multinomial_convolution_layer   (None, 50, 256)     8448        ['forward[0][0]',                \n",
            " (MultinomialConvolutionLayer)                                    'reverse[0][0]']                \n",
            "                                                                                                  \n",
            " re_lu (ReLU)                   (None, 50, 256)      0           ['multinomial_convolution_layer[0\n",
            "                                                                 ][0]']                           \n",
            "                                                                                                  \n",
            " re_lu_1 (ReLU)                 (None, 50, 256)      0           ['multinomial_convolution_layer[1\n",
            "                                                                 ][0]']                           \n",
            "                                                                                                  \n",
            " conv1d (Conv1D)                (None, 50, 2)        20482       ['re_lu[0][0]',                  \n",
            "                                                                  're_lu_1[0][0]']                \n",
            "                                                                                                  \n",
            " maximum (Maximum)              (None, 50, 2)        0           ['conv1d[0][0]',                 \n",
            "                                                                  'conv1d[1][0]']                 \n",
            "                                                                                                  \n",
            " re_lu_2 (ReLU)                 (None, 50, 2)        0           ['maximum[0][0]']                \n",
            "                                                                                                  \n",
            " conv1d_1 (Conv1D)              (None, 1, 1)         101         ['re_lu_2[0][0]']                \n",
            "                                                                                                  \n",
            " flatten (Flatten)              (None, 1)            0           ['conv1d_1[0][0]']               \n",
            "                                                                                                  \n",
            "==================================================================================================\n",
            "Total params: 29,031\n",
            "Trainable params: 29,031\n",
            "Non-trainable params: 0\n",
            "__________________________________________________________________________________________________\n"
          ]
        },
        {
          "name": "stderr",
          "output_type": "stream",
          "text": [
            "2022-07-02 17:27:50.643846: W tensorflow/core/util/tensor_slice_reader.cc:96] Could not open ../model_weights/model35_parameters_parameter_274: DATA_LOSS: not an sstable (bad magic number): perhaps your file is in a different file format and you need to use a different restore operator?\n"
          ]
        }
      ],
      "source": [
        "from src.utils.utils import get_hyperparameters\n",
        "from src.models.model35 import nn_model\n",
        "\n",
        "ROOT_DIR = \"../\"\n",
        "\n",
        "model_weights_file = ROOT_DIR + \"model_weights/model35_parameters_parameter_274\"\n",
        "parameter_file = ROOT_DIR + \"hyperparameters/parameter.txt\"\n",
        "\n",
        "# excute the code\n",
        "start_time = time.time()\n",
        "\n",
        "params = get_hyperparameters(parameter_file)\n",
        "\n",
        "nn = nn_model(hyperparameters=params)\n",
        "model = nn.create_model()\n",
        "\n",
        "model.load_weights(model_weights_file)\n",
        "\n",
        "np.set_printoptions(threshold=sys.maxsize, precision=5, suppress=True)\n",
        "\n",
        "museum_layer_num = 2\n",
        "museum_layer = model.layers[museum_layer_num]\n",
        "_, ic_scaled_prob = museum_layer.get_motifs()\n",
        "\n",
        "motifs = np.array(ic_scaled_prob)"
      ]
    },
    {
      "cell_type": "code",
      "execution_count": 5,
      "metadata": {
        "id": "lFfaNATos5bV"
      },
      "outputs": [],
      "source": [
        "import matplotlib.pyplot as plt\n",
        "import logomaker as lm"
      ]
    },
    {
      "cell_type": "code",
      "execution_count": 6,
      "metadata": {
        "id": "_3IozWjBKAau"
      },
      "outputs": [],
      "source": [
        "def get_com(motif):\n",
        "  ic = np.sum(motif, axis=1)\n",
        "  num = 0\n",
        "  den = 0\n",
        "  for i, h in enumerate(ic):\n",
        "    num += i * h\n",
        "    den += h\n",
        "  com = num / den\n",
        "  return com"
      ]
    },
    {
      "cell_type": "code",
      "execution_count": 7,
      "metadata": {
        "id": "F8vWiI5fJTqv"
      },
      "outputs": [],
      "source": [
        "def show_motif(arr, outpath=None):\n",
        "\n",
        "    motif_len = 8\n",
        "    off = 8 - int(round(get_com(arr))) - 1\n",
        "    middled_arr = np.zeros((16, 4))\n",
        "    middled_arr[off:off+motif_len] = arr\n",
        "\n",
        "    df = pd.DataFrame(middled_arr, columns=['A', 'C', 'G', 'T'])\n",
        "    logo = lm.Logo(df, \n",
        "                   font_name='Arial Rounded MT Bold', \n",
        "                   color_scheme={'A': 'tab:red', 'C': 'blue', 'G': 'goldenrod', 'T': 'green'},                    \n",
        "    )\n",
        "    logo.ax.set_ylim((0, 2.85))\n",
        "    logo.baseline_width = 2.0\n",
        "    logo.style_spines(spines=['top', 'right'], visible=False)\n",
        "    logo.ax.spines['bottom'].set_bounds((0, 15))\n",
        "    logo.ax.spines['left'].set_bounds((0, 2))\n",
        "    logo.style_spines(spines=['bottom', 'left'], linewidth=2)\n",
        "    logo.ax.xaxis.set_tick_params(width=2)\n",
        "    logo.ax.yaxis.set_tick_params(width=2)\n",
        "\n",
        "    logo.ax.set_yticks([0, 2])\n",
        "    xticks = np.arange(1, 15, 2)\n",
        "    logo.ax.set_xticks(xticks)\n",
        "    logo.ax.set_yticklabels(['0', '2'], fontsize=25)\n",
        "    logo.ax.set_xticklabels([])\n",
        "    plt.gcf().set_size_inches(4, 2.5)\n",
        "\n",
        "    if outpath:\n",
        "      plt.savefig(outpath, format='svg')\n",
        "\n",
        "    plt.show()"
      ]
    },
    {
      "cell_type": "code",
      "execution_count": 8,
      "metadata": {
        "colab": {
          "base_uri": "https://localhost:8080/",
          "height": 181
        },
        "id": "uJTpJ3bjknuk",
        "outputId": "b6405982-4eb5-4b4e-e289-29aa12cf942e"
      },
      "outputs": [
        {
          "name": "stderr",
          "output_type": "stream",
          "text": [
            "findfont: Font family ['Arial Rounded MT Bold'] not found. Falling back to DejaVu Sans.\n"
          ]
        },
        {
          "data": {
            "image/png": "[encoded data removed]",
            "text/plain": [
              "<Figure size 288x180 with 1 Axes>"
            ]
          },
          "metadata": {
            "needs_background": "light"
          },
          "output_type": "display_data"
        }
      ],
      "source": [
        "motif_num = 190\n",
        "\n",
        "show_motif(motifs[motif_num], outpath=None)"
      ]
    },
    {
      "cell_type": "code",
      "execution_count": 9,
      "metadata": {
        "colab": {
          "base_uri": "https://localhost:8080/"
        },
        "id": "zKkE1YzHcFLu",
        "outputId": "bdb2daf9-d2f5-474c-ed42-5bb17ff43da9"
      },
      "outputs": [
        {
          "data": {
            "text/plain": [
              "1.6567715272445505"
            ]
          },
          "execution_count": 9,
          "metadata": {},
          "output_type": "execute_result"
        }
      ],
      "source": [
        "get_com(motifs[motif_num])"
      ]
    },
    {
      "cell_type": "code",
      "execution_count": 10,
      "metadata": {
        "colab": {
          "base_uri": "https://localhost:8080/",
          "height": 624
        },
        "id": "xSM7KF8pzGrR",
        "outputId": "6ce56f93-c025-40b9-ac12-b5250635627d"
      },
      "outputs": [
        {
          "name": "stdout",
          "output_type": "stream",
          "text": [
            "2 3\n"
          ]
        },
        {
          "data": {
            "image/png": "[encoded data removed]",
            "text/plain": [
              "<Figure size 432x288 with 1 Axes>"
            ]
          },
          "metadata": {
            "needs_background": "light"
          },
          "output_type": "display_data"
        },
        {
          "data": {
            "image/png": "[encoded data removed]",
            "text/plain": [
              "<Figure size 288x180 with 1 Axes>"
            ]
          },
          "metadata": {
            "needs_background": "light"
          },
          "output_type": "display_data"
        },
        {
          "data": {
            "image/png": "[encoded data removed]",
            "text/plain": [
              "<Figure size 288x180 with 1 Axes>"
            ]
          },
          "metadata": {
            "needs_background": "light"
          },
          "output_type": "display_data"
        }
      ],
      "source": [
        "import tensorflow as tf\n",
        "\n",
        "def plot_second_order_relation(kernel_num, prev_kernel_num_1, prev_kernel_num_2, out_path=None):\n",
        "    layer_num = 5\n",
        "    weights_tf = tf.transpose(model.layers[layer_num].get_weights()[0], [2, 0, 1])\n",
        "    weights = np.array(weights_tf[kernel_num])\n",
        "\n",
        "    pattern_len = 40\n",
        "    total_len = 50\n",
        "    \n",
        "    pos_weights_1 = np.zeros(total_len)\n",
        "    pos_weights_2 = np.zeros(total_len)\n",
        "\n",
        "    off_1 = int(round(get_com(motifs[prev_kernel_num_1])))\n",
        "    off_2 = int(round(get_com(motifs[prev_kernel_num_2])))\n",
        "\n",
        "    print(off_1, off_2)\n",
        "\n",
        "    pos_weights_1[off_1:off_1+pattern_len] = weights[:, prev_kernel_num_1]\n",
        "    pos_weights_2[off_2:off_2+pattern_len] = weights[:, prev_kernel_num_2]\n",
        "\n",
        "    x_1 = np.arange(pos_weights_1.shape[0])\n",
        "    x_2 = np.arange(pos_weights_2.shape[0])\n",
        "    # color = ['navy' if h > 0 else 'lightgray' for h in pos_weights_1]\n",
        "    plt.bar(x_1, pos_weights_1, bottom=0, color='navy', capsize='round', width=1, alpha=0.5)\n",
        "    plt.bar(x_2, pos_weights_2, bottom=0, color='green',  capsize='round', width=1, alpha=0.5)\n",
        "    ax = plt.gca()\n",
        "    ax.spines['top'].set_visible(False)\n",
        "    ax.spines['right'].set_visible(False)\n",
        "    ax.spines['bottom'].set_bounds((0, pos_weights_1.shape[0]))\n",
        "    ax.spines['left'].set_bounds((-.2, .2))\n",
        "    ax.set_yticks([-.2, 0, .2])\n",
        "    ax.set_xticks([0, 20, 40])\n",
        "    ax.set_yticklabels(['-0.2', '0', '0.2'], fontsize=25)\n",
        "    ax.set_xticklabels(['0', '20', '40'], fontsize=25)\n",
        "    ax.spines['bottom'].set_linewidth(3)\n",
        "    ax.spines['left'].set_linewidth(3)\n",
        "    ax.xaxis.set_tick_params(width=3)\n",
        "    ax.yaxis.set_tick_params(width=3)\n",
        "    \n",
        "    # plt.ylim((-.2, .2))\n",
        "\n",
        "    # plt.gcf().set_size_inches(8, 5) \n",
        "\n",
        "    if out_path:\n",
        "        plt.savefig(out_path)\n",
        "    \n",
        "    plt.show()\n",
        "    plt.close()\n",
        "\n",
        "filter_num_1 = 190\n",
        "filter_num_2 = 191\n",
        "pos_or_neg = 0\n",
        "\n",
        "plot_second_order_relation(pos_or_neg, filter_num_1, filter_num_2)\n",
        "show_motif(motifs[filter_num_1])\n",
        "show_motif(motifs[filter_num_2])"
      ]
    },
    {
      "cell_type": "code",
      "execution_count": 11,
      "metadata": {
        "colab": {
          "base_uri": "https://localhost:8080/",
          "height": 624
        },
        "id": "qt4Ri_5Uzzks",
        "outputId": "9ef6c9cb-8963-45ef-c50a-5efe9de7ca3e"
      },
      "outputs": [
        {
          "name": "stdout",
          "output_type": "stream",
          "text": [
            "5 5\n"
          ]
        },
        {
          "data": {
            "image/png": "[encoded data removed]",
            "text/plain": [
              "<Figure size 432x288 with 1 Axes>"
            ]
          },
          "metadata": {
            "needs_background": "light"
          },
          "output_type": "display_data"
        },
        {
          "data": {
            "image/png": "[encoded data removed]",
            "text/plain": [
              "<Figure size 288x180 with 1 Axes>"
            ]
          },
          "metadata": {
            "needs_background": "light"
          },
          "output_type": "display_data"
        },
        {
          "data": {
            "image/png": "[encoded data removed]",
            "text/plain": [
              "<Figure size 288x180 with 1 Axes>"
            ]
          },
          "metadata": {
            "needs_background": "light"
          },
          "output_type": "display_data"
        }
      ],
      "source": [
        "filter_num_1 = 57\n",
        "filter_num_2 = 169\n",
        "pos_or_neg = 0\n",
        "\n",
        "plot_second_order_relation(pos_or_neg, filter_num_1, filter_num_2, out_path=None)\n",
        "show_motif(motifs[filter_num_1], outpath=None)\n",
        "show_motif(motifs[filter_num_2], outpath=None)"
      ]
    },
    {
      "cell_type": "code",
      "execution_count": 13,
      "metadata": {
        "id": "Y7cuMoKtFSth"
      },
      "outputs": [
        {
          "name": "stdout",
          "output_type": "stream",
          "text": [
            "2 3\n"
          ]
        },
        {
          "data": {
            "image/png": "[encoded data removed]",
            "text/plain": [
              "<Figure size 432x288 with 1 Axes>"
            ]
          },
          "metadata": {
            "needs_background": "light"
          },
          "output_type": "display_data"
        },
        {
          "data": {
            "image/png": "[encoded data removed]",
            "text/plain": [
              "<Figure size 288x180 with 1 Axes>"
            ]
          },
          "metadata": {
            "needs_background": "light"
          },
          "output_type": "display_data"
        },
        {
          "data": {
            "image/png": "[encoded data removed]",
            "text/plain": [
              "<Figure size 288x180 with 1 Axes>"
            ]
          },
          "metadata": {
            "needs_background": "light"
          },
          "output_type": "display_data"
        }
      ],
      "source": [
        "filter_num_1 = 97\n",
        "filter_num_2 = 150\n",
        "pos_or_neg = 0\n",
        "\n",
        "plot_second_order_relation(pos_or_neg, filter_num_1, filter_num_2)\n",
        "show_motif(motifs[filter_num_1])\n",
        "show_motif(motifs[filter_num_2])"
      ]
    },
    {
      "cell_type": "code",
      "execution_count": null,
      "metadata": {},
      "outputs": [],
      "source": []
    }
  ],
  "metadata": {
    "colab": {
      "name": "Higher Order Relations.ipynb",
      "provenance": []
    },
    "kernelspec": {
      "display_name": "Python 3.8.10 ('deepbend-env': venv)",
      "language": "python",
      "name": "python3"
    },
    "language_info": {
      "codemirror_mode": {
        "name": "ipython",
        "version": 3
      },
      "file_extension": ".py",
      "mimetype": "text/x-python",
      "name": "python",
      "nbconvert_exporter": "python",
      "pygments_lexer": "ipython3",
      "version": "3.8.10"
    },
    "vscode": {
      "interpreter": {
        "hash": "d0f9fe73b68bd248018280ba37f5faad25818d271eb3294c5be67fe1097e0b0f"
      }
    }
  },
  "nbformat": 4,
  "nbformat_minor": 0
}
