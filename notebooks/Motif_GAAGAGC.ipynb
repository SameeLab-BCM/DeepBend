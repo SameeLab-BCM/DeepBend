{
  "nbformat": 4,
  "nbformat_minor": 0,
  "metadata": {
    "colab": {
      "name": "bendability_exploratory_work_GAAGAGC.ipynb",
      "provenance": []
    },
    "kernelspec": {
      "name": "python3",
      "display_name": "Python 3"
    },
    "language_info": {
      "name": "python"
    }
  },
  "cells": [
    {
      "cell_type": "code",
      "source": [
        ""
      ],
      "metadata": {
        "id": "190SGyYXdYOK"
      },
      "execution_count": null,
      "outputs": []
    },
    {
      "cell_type": "code",
      "source": [
        "from google.colab import drive\n",
        "drive.mount('/content/drive')"
      ],
      "metadata": {
        "colab": {
          "base_uri": "https://localhost:8080/"
        },
        "id": "lqYlFRFa-au-",
        "outputId": "75b9f1b0-52cf-4911-835d-6e1335f17555"
      },
      "execution_count": null,
      "outputs": [
        {
          "output_type": "stream",
          "name": "stdout",
          "text": [
            "Mounted at /content/drive\n"
          ]
        }
      ]
    },
    {
      "cell_type": "code",
      "source": [
        "chrom = 'V'\n",
        "file_path = f'/content/drive/MyDrive/DNA Bendability/data/genome/chr{chrom}.fsa'\n",
        "with open(file_path, 'r') as f:\n",
        "    segs = f.readlines()\n",
        "segs = [s.strip() for s in segs]\n",
        "chrom_seq = ''.join(segs)\n",
        "\n",
        "len(chrom_seq)"
      ],
      "metadata": {
        "colab": {
          "base_uri": "https://localhost:8080/"
        },
        "id": "eS05DVl2WZWP",
        "outputId": "d23566c8-dabb-46ce-e022-58e7545941df"
      },
      "execution_count": null,
      "outputs": [
        {
          "output_type": "execute_result",
          "data": {
            "text/plain": [
              "576874"
            ]
          },
          "metadata": {},
          "execution_count": 2
        }
      ]
    },
    {
      "cell_type": "code",
      "source": [
        "# background dist\n",
        "A = C = G = T = 0\n",
        "for c in chrom_seq:\n",
        "  if c == 'A':\n",
        "    A += 1\n",
        "  elif c == 'C':\n",
        "    C += 1\n",
        "  elif c == 'G':\n",
        "    G += 1\n",
        "  else:\n",
        "    T += 1\n",
        "\n",
        "print(f\"A: {A/len(chrom_seq)} C: {C/len(chrom_seq)} G: {G/len(chrom_seq)} T: {T/len(chrom_seq)}\")"
      ],
      "metadata": {
        "colab": {
          "base_uri": "https://localhost:8080/"
        },
        "id": "45MDF9GD_GbG",
        "outputId": "20fcef59-586f-4bd2-d5d1-9bc5acc7e54d"
      },
      "execution_count": null,
      "outputs": [
        {
          "output_type": "stream",
          "name": "stdout",
          "text": [
            "A: 0.3060165651424748 C: 0.1903812617660009 G: 0.1946924285025846 T: 0.3089097445889397\n"
          ]
        }
      ]
    },
    {
      "cell_type": "code",
      "source": [
        "import re"
      ],
      "metadata": {
        "id": "SNbPZ02nWEL0"
      },
      "execution_count": null,
      "outputs": []
    },
    {
      "cell_type": "markdown",
      "source": [
        "Checking variations of GAAGAGC and GCTCTTC"
      ],
      "metadata": {
        "id": "PMm112lQWdrM"
      }
    },
    {
      "cell_type": "code",
      "source": [
        "def get_number_of(seq):\n",
        "  poses = [m.start() for m in re.finditer(seq, chrom_seq)]\n",
        "  return len(poses)"
      ],
      "metadata": {
        "id": "9WpLPmBMVhvP"
      },
      "execution_count": null,
      "outputs": []
    },
    {
      "cell_type": "code",
      "source": [
        "get_number_of('GCTCTTC') + get_number_of('GAAGAGC')"
      ],
      "metadata": {
        "colab": {
          "base_uri": "https://localhost:8080/"
        },
        "id": "eksBi7IVV_6M",
        "outputId": "0f585db9-cb55-40e3-951a-cade7829f6b9"
      },
      "execution_count": null,
      "outputs": [
        {
          "output_type": "execute_result",
          "data": {
            "text/plain": [
              "120"
            ]
          },
          "metadata": {},
          "execution_count": 6
        }
      ]
    },
    {
      "cell_type": "code",
      "source": [
        "bases = ['A', 'C', 'G', 'T']\n",
        "def other_bases(b):\n",
        "  return [base for base in bases if base != b]"
      ],
      "metadata": {
        "id": "UtgD-h_yWxZ-"
      },
      "execution_count": null,
      "outputs": []
    },
    {
      "cell_type": "code",
      "source": [
        "def print_snp(seq):\n",
        "  print(f\"{seq} => {get_number_of(seq)}\")\n",
        "\n",
        "  total = 0\n",
        "  for pos in range(7):\n",
        "    obs = other_bases(seq[pos])\n",
        "    for ob in obs:\n",
        "      nseq = seq[:pos] + ob + seq[pos+1:]\n",
        "      num = get_number_of(nseq)\n",
        "      print(f\"{nseq} => {num}\")\n",
        "      total += num\n",
        "\n",
        "  print(f\"total {total}\")"
      ],
      "metadata": {
        "id": "bGwJzxpGW49s"
      },
      "execution_count": null,
      "outputs": []
    },
    {
      "cell_type": "code",
      "source": [
        "print_snp('GAAGAGC')"
      ],
      "metadata": {
        "colab": {
          "base_uri": "https://localhost:8080/"
        },
        "id": "5fCdewPeYNVv",
        "outputId": "0b35472f-462c-42c3-d305-513d220c560e"
      },
      "execution_count": null,
      "outputs": [
        {
          "output_type": "stream",
          "name": "stdout",
          "text": [
            "GAAGAGC => 61\n",
            "AAAGAGC => 41\n",
            "CAAGAGC => 39\n",
            "TAAGAGC => 23\n",
            "GCAGAGC => 22\n",
            "GGAGAGC => 14\n",
            "GTAGAGC => 19\n",
            "GACGAGC => 15\n",
            "GAGGAGC => 15\n",
            "GATGAGC => 34\n",
            "GAAAAGC => 58\n",
            "GAACAGC => 31\n",
            "GAATAGC => 32\n",
            "GAAGCGC => 25\n",
            "GAAGGGC => 26\n",
            "GAAGTGC => 20\n",
            "GAAGAAC => 74\n",
            "GAAGACC => 44\n",
            "GAAGATC => 49\n",
            "GAAGAGA => 62\n",
            "GAAGAGG => 68\n",
            "GAAGAGT => 62\n",
            "total 773\n"
          ]
        }
      ]
    },
    {
      "cell_type": "code",
      "source": [
        "print_snp('GCTCTTC')"
      ],
      "metadata": {
        "id": "jee2cKgEaaVP",
        "outputId": "c366548e-039a-412e-c7fe-1b92daf9eb27",
        "colab": {
          "base_uri": "https://localhost:8080/"
        }
      },
      "execution_count": null,
      "outputs": [
        {
          "output_type": "stream",
          "name": "stdout",
          "text": [
            "GCTCTTC => 59\n",
            "ACTCTTC => 57\n",
            "CCTCTTC => 55\n",
            "TCTCTTC => 88\n",
            "GATCTTC => 55\n",
            "GGTCTTC => 26\n",
            "GTTCTTC => 65\n",
            "GCACTTC => 22\n",
            "GCCCTTC => 18\n",
            "GCGCTTC => 16\n",
            "GCTATTC => 25\n",
            "GCTGTTC => 37\n",
            "GCTTTTC => 55\n",
            "GCTCATC => 32\n",
            "GCTCCTC => 21\n",
            "GCTCGTC => 9\n",
            "GCTCTAC => 23\n",
            "GCTCTCC => 15\n",
            "GCTCTGC => 9\n",
            "GCTCTTA => 21\n",
            "GCTCTTG => 28\n",
            "GCTCTTT => 52\n",
            "total 729\n"
          ]
        }
      ]
    },
    {
      "cell_type": "code",
      "source": [
        "!head -5 \"/content/drive/MyDrive/DNA Bendability/data/dataset_9.txt\""
      ],
      "metadata": {
        "id": "_w7godCPadJP",
        "colab": {
          "base_uri": "https://localhost:8080/"
        },
        "outputId": "c9696389-9a08-46d2-b46a-4098bfa62ec2"
      },
      "execution_count": null,
      "outputs": [
        {
          "output_type": "stream",
          "name": "stdout",
          "text": [
            "Sequence #\tSequence\t Cyclizability (n=26)\t Cyclizability (n=29)\t Cyclizability (n=31)\t C0\t Amplitude\t Phase\n",
            "1\tTTTCTTCACTTATCTCCCACCGTCCCGTCTCCTCCAAGCCCTGTTGTCTCTTACCCGGATGTTCAACCAAAAGCTGGCAGAAGACAAGGGAACGAAATAG\t -0.205912\t -0.781882\t 0.015182\t -0.069223\t -0.650093\t 0.211841\n",
            "2\tTTTCTTCACTTATCTCCCACCGTCCTCCAAGCCCTGTTGTCTCTTACCCGGATGTTCAACCAAAAGCTACTTACTGGCAGAAGACAAGGGAACGAAATAG\t -0.388233\t -0.563193\t -1.083431\t -0.688533\t -0.350048\t -2.110462\n",
            "3\tTTTCTTCACTTATCTCCCACCGTCCCCTGTTGTCTCTTACCCGGATGTTCAACCAAAAGCTACTTACTACCTTTAGGCAGAAGACAAGGGAACGAAATAG\t -0.947849\t 0.065416\t 0.277546\t -0.464485\t 0.584360\t -0.974048\n",
            "4\tTTTCTTCACTTATCTCCCACCGTCCTCTCTTACCCGGATGTTCAACCAAAAGCTACTTACTACCTTTATTTTATGGGCAGAAGACAAGGGAACGAAATAG\t 0.702216\t 0.541498\t -0.031338\t 0.383790\t 0.382364\t 0.984116\n"
          ]
        }
      ]
    },
    {
      "cell_type": "code",
      "source": [
        "import pandas as pd\n",
        "import numpy as np\n",
        "import matplotlib.pyplot as plt"
      ],
      "metadata": {
        "id": "bTUJNNtsFs0-"
      },
      "execution_count": null,
      "outputs": []
    },
    {
      "cell_type": "code",
      "source": [
        "df = pd.read_csv(\"/content/drive/MyDrive/DNA Bendability/data/dataset_9.txt\", sep=\"\\t\")\n",
        "df"
      ],
      "metadata": {
        "colab": {
          "base_uri": "https://localhost:8080/",
          "height": 424
        },
        "id": "xk0ljeCsFm2U",
        "outputId": "bd7561eb-5abe-4adb-f23b-588cf556d3e7"
      },
      "execution_count": null,
      "outputs": [
        {
          "output_type": "execute_result",
          "data": {
            "text/plain": [
              "       Sequence #                                           Sequence  \\\n",
              "0               1  TTTCTTCACTTATCTCCCACCGTCCCGTCTCCTCCAAGCCCTGTTG...   \n",
              "1               2  TTTCTTCACTTATCTCCCACCGTCCTCCAAGCCCTGTTGTCTCTTA...   \n",
              "2               3  TTTCTTCACTTATCTCCCACCGTCCCCTGTTGTCTCTTACCCGGAT...   \n",
              "3               4  TTTCTTCACTTATCTCCCACCGTCCTCTCTTACCCGGATGTTCAAC...   \n",
              "4               5  TTTCTTCACTTATCTCCCACCGTCCCCCGGATGTTCAACCAAAAGC...   \n",
              "...           ...                                                ...   \n",
              "82399       82400  TTTCTTCACTTATCTCCCACCGTCCGAGGGCTATTTAGGGCTATTT...   \n",
              "82400       82401  TTTCTTCACTTATCTCCCACCGTCCATTTAGGGCTATTTAGGGCTA...   \n",
              "82401       82402  TTTCTTCACTTATCTCCCACCGTCCGCTATTTAGGGCTATGTAGAA...   \n",
              "82402       82403  TTTCTTCACTTATCTCCCACCGTCCAGGGCTATGTAGAAGTGCTGT...   \n",
              "82403       82404  TTTCTTCACTTATCTCCCACCGTCCTGTAGAAGTGCTGTAGGGCTA...   \n",
              "\n",
              "        Cyclizability (n=26)   Cyclizability (n=29)   Cyclizability (n=31)  \\\n",
              "0                  -0.205912              -0.781882               0.015182   \n",
              "1                  -0.388233              -0.563193              -1.083431   \n",
              "2                  -0.947849               0.065416               0.277546   \n",
              "3                   0.702216               0.541498              -0.031338   \n",
              "4                   0.587374              -0.069926              -0.544434   \n",
              "...                      ...                    ...                    ...   \n",
              "82399               1.258344               1.652875               1.891682   \n",
              "82400               2.016630               2.129109               1.819680   \n",
              "82401               1.249375               0.327780               1.150162   \n",
              "82402              -0.230605               1.164028               1.433024   \n",
              "82403               0.977008               0.887180               0.505204   \n",
              "\n",
              "             C0   Amplitude     Phase  \n",
              "0     -0.069223   -0.650093  0.211841  \n",
              "1     -0.688533   -0.350048 -2.110462  \n",
              "2     -0.464485    0.584360 -0.974048  \n",
              "3      0.383790    0.382364  0.984116  \n",
              "4      0.122761   -0.467108 -1.467391  \n",
              "...         ...         ...       ...  \n",
              "82399  1.516590    0.263321 -1.374159  \n",
              "82400  1.920989    0.221096  0.447351  \n",
              "82401  1.264983   -0.795507  0.019621  \n",
              "82402  0.424384    0.802236 -0.955243  \n",
              "82403  0.771321    0.253718  0.945331  \n",
              "\n",
              "[82404 rows x 8 columns]"
            ],
            "text/html": [
              "\n",
              "  <div id=\"df-2e44c94a-64f4-4034-a38b-dbed5cb070a7\">\n",
              "    <div class=\"colab-df-container\">\n",
              "      <div>\n",
              "<style scoped>\n",
              "    .dataframe tbody tr th:only-of-type {\n",
              "        vertical-align: middle;\n",
              "    }\n",
              "\n",
              "    .dataframe tbody tr th {\n",
              "        vertical-align: top;\n",
              "    }\n",
              "\n",
              "    .dataframe thead th {\n",
              "        text-align: right;\n",
              "    }\n",
              "</style>\n",
              "<table border=\"1\" class=\"dataframe\">\n",
              "  <thead>\n",
              "    <tr style=\"text-align: right;\">\n",
              "      <th></th>\n",
              "      <th>Sequence #</th>\n",
              "      <th>Sequence</th>\n",
              "      <th>Cyclizability (n=26)</th>\n",
              "      <th>Cyclizability (n=29)</th>\n",
              "      <th>Cyclizability (n=31)</th>\n",
              "      <th>C0</th>\n",
              "      <th>Amplitude</th>\n",
              "      <th>Phase</th>\n",
              "    </tr>\n",
              "  </thead>\n",
              "  <tbody>\n",
              "    <tr>\n",
              "      <th>0</th>\n",
              "      <td>1</td>\n",
              "      <td>TTTCTTCACTTATCTCCCACCGTCCCGTCTCCTCCAAGCCCTGTTG...</td>\n",
              "      <td>-0.205912</td>\n",
              "      <td>-0.781882</td>\n",
              "      <td>0.015182</td>\n",
              "      <td>-0.069223</td>\n",
              "      <td>-0.650093</td>\n",
              "      <td>0.211841</td>\n",
              "    </tr>\n",
              "    <tr>\n",
              "      <th>1</th>\n",
              "      <td>2</td>\n",
              "      <td>TTTCTTCACTTATCTCCCACCGTCCTCCAAGCCCTGTTGTCTCTTA...</td>\n",
              "      <td>-0.388233</td>\n",
              "      <td>-0.563193</td>\n",
              "      <td>-1.083431</td>\n",
              "      <td>-0.688533</td>\n",
              "      <td>-0.350048</td>\n",
              "      <td>-2.110462</td>\n",
              "    </tr>\n",
              "    <tr>\n",
              "      <th>2</th>\n",
              "      <td>3</td>\n",
              "      <td>TTTCTTCACTTATCTCCCACCGTCCCCTGTTGTCTCTTACCCGGAT...</td>\n",
              "      <td>-0.947849</td>\n",
              "      <td>0.065416</td>\n",
              "      <td>0.277546</td>\n",
              "      <td>-0.464485</td>\n",
              "      <td>0.584360</td>\n",
              "      <td>-0.974048</td>\n",
              "    </tr>\n",
              "    <tr>\n",
              "      <th>3</th>\n",
              "      <td>4</td>\n",
              "      <td>TTTCTTCACTTATCTCCCACCGTCCTCTCTTACCCGGATGTTCAAC...</td>\n",
              "      <td>0.702216</td>\n",
              "      <td>0.541498</td>\n",
              "      <td>-0.031338</td>\n",
              "      <td>0.383790</td>\n",
              "      <td>0.382364</td>\n",
              "      <td>0.984116</td>\n",
              "    </tr>\n",
              "    <tr>\n",
              "      <th>4</th>\n",
              "      <td>5</td>\n",
              "      <td>TTTCTTCACTTATCTCCCACCGTCCCCCGGATGTTCAACCAAAAGC...</td>\n",
              "      <td>0.587374</td>\n",
              "      <td>-0.069926</td>\n",
              "      <td>-0.544434</td>\n",
              "      <td>0.122761</td>\n",
              "      <td>-0.467108</td>\n",
              "      <td>-1.467391</td>\n",
              "    </tr>\n",
              "    <tr>\n",
              "      <th>...</th>\n",
              "      <td>...</td>\n",
              "      <td>...</td>\n",
              "      <td>...</td>\n",
              "      <td>...</td>\n",
              "      <td>...</td>\n",
              "      <td>...</td>\n",
              "      <td>...</td>\n",
              "      <td>...</td>\n",
              "    </tr>\n",
              "    <tr>\n",
              "      <th>82399</th>\n",
              "      <td>82400</td>\n",
              "      <td>TTTCTTCACTTATCTCCCACCGTCCGAGGGCTATTTAGGGCTATTT...</td>\n",
              "      <td>1.258344</td>\n",
              "      <td>1.652875</td>\n",
              "      <td>1.891682</td>\n",
              "      <td>1.516590</td>\n",
              "      <td>0.263321</td>\n",
              "      <td>-1.374159</td>\n",
              "    </tr>\n",
              "    <tr>\n",
              "      <th>82400</th>\n",
              "      <td>82401</td>\n",
              "      <td>TTTCTTCACTTATCTCCCACCGTCCATTTAGGGCTATTTAGGGCTA...</td>\n",
              "      <td>2.016630</td>\n",
              "      <td>2.129109</td>\n",
              "      <td>1.819680</td>\n",
              "      <td>1.920989</td>\n",
              "      <td>0.221096</td>\n",
              "      <td>0.447351</td>\n",
              "    </tr>\n",
              "    <tr>\n",
              "      <th>82401</th>\n",
              "      <td>82402</td>\n",
              "      <td>TTTCTTCACTTATCTCCCACCGTCCGCTATTTAGGGCTATGTAGAA...</td>\n",
              "      <td>1.249375</td>\n",
              "      <td>0.327780</td>\n",
              "      <td>1.150162</td>\n",
              "      <td>1.264983</td>\n",
              "      <td>-0.795507</td>\n",
              "      <td>0.019621</td>\n",
              "    </tr>\n",
              "    <tr>\n",
              "      <th>82402</th>\n",
              "      <td>82403</td>\n",
              "      <td>TTTCTTCACTTATCTCCCACCGTCCAGGGCTATGTAGAAGTGCTGT...</td>\n",
              "      <td>-0.230605</td>\n",
              "      <td>1.164028</td>\n",
              "      <td>1.433024</td>\n",
              "      <td>0.424384</td>\n",
              "      <td>0.802236</td>\n",
              "      <td>-0.955243</td>\n",
              "    </tr>\n",
              "    <tr>\n",
              "      <th>82403</th>\n",
              "      <td>82404</td>\n",
              "      <td>TTTCTTCACTTATCTCCCACCGTCCTGTAGAAGTGCTGTAGGGCTA...</td>\n",
              "      <td>0.977008</td>\n",
              "      <td>0.887180</td>\n",
              "      <td>0.505204</td>\n",
              "      <td>0.771321</td>\n",
              "      <td>0.253718</td>\n",
              "      <td>0.945331</td>\n",
              "    </tr>\n",
              "  </tbody>\n",
              "</table>\n",
              "<p>82404 rows × 8 columns</p>\n",
              "</div>\n",
              "      <button class=\"colab-df-convert\" onclick=\"convertToInteractive('df-2e44c94a-64f4-4034-a38b-dbed5cb070a7')\"\n",
              "              title=\"Convert this dataframe to an interactive table.\"\n",
              "              style=\"display:none;\">\n",
              "        \n",
              "  <svg xmlns=\"http://www.w3.org/2000/svg\" height=\"24px\"viewBox=\"0 0 24 24\"\n",
              "       width=\"24px\">\n",
              "    <path d=\"M0 0h24v24H0V0z\" fill=\"none\"/>\n",
              "    <path d=\"M18.56 5.44l.94 2.06.94-2.06 2.06-.94-2.06-.94-.94-2.06-.94 2.06-2.06.94zm-11 1L8.5 8.5l.94-2.06 2.06-.94-2.06-.94L8.5 2.5l-.94 2.06-2.06.94zm10 10l.94 2.06.94-2.06 2.06-.94-2.06-.94-.94-2.06-.94 2.06-2.06.94z\"/><path d=\"M17.41 7.96l-1.37-1.37c-.4-.4-.92-.59-1.43-.59-.52 0-1.04.2-1.43.59L10.3 9.45l-7.72 7.72c-.78.78-.78 2.05 0 2.83L4 21.41c.39.39.9.59 1.41.59.51 0 1.02-.2 1.41-.59l7.78-7.78 2.81-2.81c.8-.78.8-2.07 0-2.86zM5.41 20L4 18.59l7.72-7.72 1.47 1.35L5.41 20z\"/>\n",
              "  </svg>\n",
              "      </button>\n",
              "      \n",
              "  <style>\n",
              "    .colab-df-container {\n",
              "      display:flex;\n",
              "      flex-wrap:wrap;\n",
              "      gap: 12px;\n",
              "    }\n",
              "\n",
              "    .colab-df-convert {\n",
              "      background-color: #E8F0FE;\n",
              "      border: none;\n",
              "      border-radius: 50%;\n",
              "      cursor: pointer;\n",
              "      display: none;\n",
              "      fill: #1967D2;\n",
              "      height: 32px;\n",
              "      padding: 0 0 0 0;\n",
              "      width: 32px;\n",
              "    }\n",
              "\n",
              "    .colab-df-convert:hover {\n",
              "      background-color: #E2EBFA;\n",
              "      box-shadow: 0px 1px 2px rgba(60, 64, 67, 0.3), 0px 1px 3px 1px rgba(60, 64, 67, 0.15);\n",
              "      fill: #174EA6;\n",
              "    }\n",
              "\n",
              "    [theme=dark] .colab-df-convert {\n",
              "      background-color: #3B4455;\n",
              "      fill: #D2E3FC;\n",
              "    }\n",
              "\n",
              "    [theme=dark] .colab-df-convert:hover {\n",
              "      background-color: #434B5C;\n",
              "      box-shadow: 0px 1px 3px 1px rgba(0, 0, 0, 0.15);\n",
              "      filter: drop-shadow(0px 1px 2px rgba(0, 0, 0, 0.3));\n",
              "      fill: #FFFFFF;\n",
              "    }\n",
              "  </style>\n",
              "\n",
              "      <script>\n",
              "        const buttonEl =\n",
              "          document.querySelector('#df-2e44c94a-64f4-4034-a38b-dbed5cb070a7 button.colab-df-convert');\n",
              "        buttonEl.style.display =\n",
              "          google.colab.kernel.accessAllowed ? 'block' : 'none';\n",
              "\n",
              "        async function convertToInteractive(key) {\n",
              "          const element = document.querySelector('#df-2e44c94a-64f4-4034-a38b-dbed5cb070a7');\n",
              "          const dataTable =\n",
              "            await google.colab.kernel.invokeFunction('convertToInteractive',\n",
              "                                                     [key], {});\n",
              "          if (!dataTable) return;\n",
              "\n",
              "          const docLinkHtml = 'Like what you see? Visit the ' +\n",
              "            '<a target=\"_blank\" href=https://colab.research.google.com/notebooks/data_table.ipynb>data table notebook</a>'\n",
              "            + ' to learn more about interactive tables.';\n",
              "          element.innerHTML = '';\n",
              "          dataTable['output_type'] = 'display_data';\n",
              "          await google.colab.output.renderOutput(dataTable, element);\n",
              "          const docLink = document.createElement('div');\n",
              "          docLink.innerHTML = docLinkHtml;\n",
              "          element.appendChild(docLink);\n",
              "        }\n",
              "      </script>\n",
              "    </div>\n",
              "  </div>\n",
              "  "
            ]
          },
          "metadata": {},
          "execution_count": 13
        }
      ]
    },
    {
      "cell_type": "code",
      "source": [
        "seqs = []\n",
        "for seq in df[\"Sequence\"]:\n",
        "  seqs.append(seq[25:-25])\n",
        "seqs = np.array(seqs)\n",
        "len(seqs[0])"
      ],
      "metadata": {
        "colab": {
          "base_uri": "https://localhost:8080/"
        },
        "id": "0lP4hMGdGCa8",
        "outputId": "fbdf715e-b001-4738-f1a0-ea769ba71261"
      },
      "execution_count": null,
      "outputs": [
        {
          "output_type": "execute_result",
          "data": {
            "text/plain": [
              "50"
            ]
          },
          "metadata": {},
          "execution_count": 14
        }
      ]
    },
    {
      "cell_type": "code",
      "source": [
        "c_nots = df[\" C0\"].to_numpy()\n",
        "c_nots"
      ],
      "metadata": {
        "colab": {
          "base_uri": "https://localhost:8080/"
        },
        "id": "GW9ZAk0UGXkN",
        "outputId": "221fdc25-1860-4d54-bee5-fd56ffbf782a"
      },
      "execution_count": null,
      "outputs": [
        {
          "output_type": "execute_result",
          "data": {
            "text/plain": [
              "array([-0.069223, -0.688533, -0.464485, ...,  1.264983,  0.424384,\n",
              "        0.771321])"
            ]
          },
          "metadata": {},
          "execution_count": 15
        }
      ]
    },
    {
      "cell_type": "code",
      "source": [
        "seq = 'GAAGAGC'\n",
        "c_nots_with_seq = [c_not for i, c_not in enumerate(c_nots) if seqs[i].find(seq) != -1]\n",
        "len(c_nots_with_seq) "
      ],
      "metadata": {
        "colab": {
          "base_uri": "https://localhost:8080/"
        },
        "id": "2NN-_UIsG5iF",
        "outputId": "68104cdc-5f06-4dea-dd42-f3b8a3ccd853"
      },
      "execution_count": null,
      "outputs": [
        {
          "output_type": "execute_result",
          "data": {
            "text/plain": [
              "376"
            ]
          },
          "metadata": {},
          "execution_count": 16
        }
      ]
    },
    {
      "cell_type": "code",
      "source": [
        "plt.boxplot(c_nots_with_seq, \n",
        "            vert=False, \n",
        "            patch_artist=True, \n",
        "            notch=True, \n",
        "            boxprops=dict(facecolor='royalblue', linewidth=2), \n",
        "            medianprops=dict(linewidth=2),\n",
        "            whiskerprops=dict(linewidth=2),\n",
        "            capprops=dict(linewidth=2),\n",
        "            flierprops=dict(markerfacecolor='royalblue', markeredgewidth=2)\n",
        ")\n"
      ],
      "metadata": {
        "colab": {
          "base_uri": "https://localhost:8080/",
          "height": 404
        },
        "id": "GCtVSawOHdf1",
        "outputId": "d4b770f7-bee0-4793-9b95-b2ccbb6ee5db"
      },
      "execution_count": null,
      "outputs": [
        {
          "output_type": "execute_result",
          "data": {
            "text/plain": [
              "{'boxes': [<matplotlib.patches.PathPatch at 0x7f6779d47990>],\n",
              " 'caps': [<matplotlib.lines.Line2D at 0x7f6779ce5050>,\n",
              "  <matplotlib.lines.Line2D at 0x7f6779ce5590>],\n",
              " 'fliers': [<matplotlib.lines.Line2D at 0x7f6779ced090>],\n",
              " 'means': [],\n",
              " 'medians': [<matplotlib.lines.Line2D at 0x7f6779ce5ad0>],\n",
              " 'whiskers': [<matplotlib.lines.Line2D at 0x7f6779cda490>,\n",
              "  <matplotlib.lines.Line2D at 0x7f6779cdaa90>]}"
            ]
          },
          "metadata": {},
          "execution_count": 17
        },
        {
          "output_type": "display_data",
          "data": {
            "text/plain": [
              "<Figure size 432x288 with 1 Axes>"
            ],
            "image/png": "[encoded data removed]"
          },
          "metadata": {
            "needs_background": "light"
          }
        }
      ]
    },
    {
      "cell_type": "code",
      "source": [
        "my_dict = {}\n",
        "\n",
        "def get_cnots_with_seq(seq):\n",
        "  return [c_not for i, c_not in enumerate(c_nots) if seqs[i].find(seq) != -1]\n",
        "\n",
        "\n",
        "seq = 'GAAGAGC'\n",
        "my_dict[seq] = get_cnots_with_seq(seq)\n",
        "for pos in range(7):\n",
        "  obs = other_bases(seq[pos])\n",
        "  for ob in obs:\n",
        "    nseq = seq[:pos] + ob + seq[pos+1:]\n",
        "    my_dict[nseq] = get_cnots_with_seq(nseq)\n"
      ],
      "metadata": {
        "id": "IH9Z_jpZKAap"
      },
      "execution_count": null,
      "outputs": []
    },
    {
      "cell_type": "code",
      "source": [
        "import seaborn as sns\n",
        "import pandas as pd"
      ],
      "metadata": {
        "id": "t8mAEUMY1Erf"
      },
      "execution_count": null,
      "outputs": []
    },
    {
      "cell_type": "code",
      "source": [
        ""
      ],
      "metadata": {
        "id": "NRRv_I8_2QI5"
      },
      "execution_count": null,
      "outputs": []
    },
    {
      "cell_type": "code",
      "source": [
        "fig, ax = plt.subplots()\n",
        "plt.boxplot(my_dict.values(), \n",
        "            vert=False, \n",
        "            patch_artist=True, \n",
        "            notch=True, \n",
        "            boxprops=dict(facecolor='royalblue', linewidth=3), \n",
        "            medianprops=dict(linewidth=3),\n",
        "            whiskerprops=dict(linewidth=3),\n",
        "            capprops=dict(linewidth=3),\n",
        "            flierprops=dict(markerfacecolor='royalblue', markeredgewidth=3)\n",
        ")\n",
        "\n",
        "ax.spines['top'].set_visible(False)\n",
        "ax.spines['right'].set_visible(False)\n",
        "xticks = [-2, -1, 0, 1, 2]\n",
        "ax.set_xticks(xticks)\n",
        "ax.set_xticklabels([str(x) for x in xticks], fontsize=24)\n",
        "ax.set_yticklabels(my_dict.keys(), fontsize=24)\n",
        "ax.spines['bottom'].set_linewidth(3)\n",
        "ax.spines['left'].set_linewidth(3)\n",
        "ax.xaxis.set_tick_params(width=3)\n",
        "ax.yaxis.set_tick_params(width=3)\n",
        "\n",
        "plt.gcf().set_size_inches(10, 12)\n",
        "plt.savefig('boxplot.svg', format='svg')\n",
        "plt.show()"
      ],
      "metadata": {
        "colab": {
          "base_uri": "https://localhost:8080/",
          "height": 769
        },
        "id": "O9uZUFMHJEE4",
        "outputId": "75f82742-362a-4d35-b876-42ff8630d66c"
      },
      "execution_count": null,
      "outputs": [
        {
          "output_type": "stream",
          "name": "stderr",
          "text": [
            "/usr/local/lib/python3.7/dist-packages/matplotlib/cbook/__init__.py:1376: VisibleDeprecationWarning: Creating an ndarray from ragged nested sequences (which is a list-or-tuple of lists-or-tuples-or ndarrays with different lengths or shapes) is deprecated. If you meant to do this, you must specify 'dtype=object' when creating the ndarray.\n",
            "  X = np.atleast_1d(X.T if isinstance(X, np.ndarray) else np.asarray(X))\n"
          ]
        },
        {
          "output_type": "display_data",
          "data": {
            "text/plain": [
              "<Figure size 720x864 with 1 Axes>"
            ],
            "image/png": "[encoded data removed]"
          },
          "metadata": {
            "needs_background": "light"
          }
        }
      ]
    },
    {
      "cell_type": "code",
      "source": [
        "def rc_complement(seq):\n",
        "  rc_dict = {'A': 'T', 'C': 'G', 'G': 'C', 'T': 'A'}\n",
        "  rc_seq = ''.join([rc_dict[c] for c in seq[::-1]])\n",
        "  return rc_seq"
      ],
      "metadata": {
        "id": "hvOOFDXFELiR"
      },
      "execution_count": null,
      "outputs": []
    },
    {
      "cell_type": "code",
      "source": [
        "import itertools\n",
        "\n",
        "def generate_all_sequences_with(letters: str, len: int):\n",
        "     yield from itertools.product(*([letters] * len)) \n",
        "\n",
        "all_seqs_of_7 = []\n",
        "their_number = []\n",
        "for x in generate_all_sequences_with('ACGT', 7):\n",
        "  seq = ''.join(x)\n",
        "  all_seqs_of_7.append(seq)\n",
        "  # their_number.append(get_number_of(seq))\n",
        "  their_number.append(get_number_of(seq) + get_number_of(rc_complement(seq)))"
      ],
      "metadata": {
        "id": "-CiXT3e1HlYO"
      },
      "execution_count": null,
      "outputs": []
    },
    {
      "cell_type": "code",
      "source": [
        "plt.hist(their_number, bins=100)\n",
        "\n",
        "ax = plt.gca()\n",
        "ax.spines['top'].set_visible(False)\n",
        "ax.spines['right'].set_visible(False)\n",
        "# ax.spines['bottom'].set_bounds((0, 50))\n",
        "yticks = [y for y in range(0, 1601, 200)]\n",
        "ax.set_yticks(yticks)\n",
        "ax.set_yticklabels([str(y) for y in yticks], fontsize=28)\n",
        "xticks = [x for x in range(0, 701, 50)]\n",
        "ax.set_xticks(xticks)\n",
        "ax.set_xticklabels([str(x) for x in xticks], fontsize=30)\n",
        "ax.spines['bottom'].set_linewidth(3)\n",
        "ax.spines['left'].set_linewidth(3)\n",
        "ax.xaxis.set_tick_params(width=3)\n",
        "ax.yaxis.set_tick_params(width=3)\n",
        "\n",
        "plt.gcf().set_size_inches(20, 10)\n",
        "\n",
        "plt.savefig('fig.svg', format='svg')\n",
        "\n",
        "plt.show()"
      ],
      "metadata": {
        "colab": {
          "base_uri": "https://localhost:8080/",
          "height": 621
        },
        "id": "npXB5gbTP1Xo",
        "outputId": "c6ae58f5-50ff-49e7-a6a9-ef10102b7601"
      },
      "execution_count": null,
      "outputs": [
        {
          "output_type": "display_data",
          "data": {
            "text/plain": [
              "<Figure size 1440x720 with 1 Axes>"
            ],
            "image/png": "[encoded data removed]"
          },
          "metadata": {
            "needs_background": "light"
          }
        }
      ]
    },
    {
      "cell_type": "code",
      "source": [
        "print(len(all_seqs_of_7))"
      ],
      "metadata": {
        "id": "PmbpETJKQ_Nv",
        "colab": {
          "base_uri": "https://localhost:8080/"
        },
        "outputId": "f5b85575-5249-4911-f455-c62f9fcecb60"
      },
      "execution_count": null,
      "outputs": [
        {
          "output_type": "stream",
          "name": "stdout",
          "text": [
            "16384\n"
          ]
        }
      ]
    },
    {
      "cell_type": "code",
      "source": [
        ""
      ],
      "metadata": {
        "id": "sHyEydMcHKTT"
      },
      "execution_count": null,
      "outputs": []
    },
    {
      "cell_type": "code",
      "source": [
        "count_1 = 0\n",
        "for number in their_number:\n",
        "  if number >= 120:\n",
        "    count_1 += 1\n",
        "\n",
        "print(count_1)\n"
      ],
      "metadata": {
        "colab": {
          "base_uri": "https://localhost:8080/"
        },
        "id": "UfgGkSwIGLOb",
        "outputId": "4224feeb-605e-46ff-abac-cf7a48cee59b"
      },
      "execution_count": null,
      "outputs": [
        {
          "output_type": "stream",
          "name": "stdout",
          "text": [
            "2256\n"
          ]
        }
      ]
    },
    {
      "cell_type": "code",
      "source": [
        ""
      ],
      "metadata": {
        "id": "NmttboelHqYm"
      },
      "execution_count": null,
      "outputs": []
    }
  ]
}