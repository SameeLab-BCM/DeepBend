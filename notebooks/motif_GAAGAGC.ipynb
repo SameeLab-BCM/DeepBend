{
  "cells": [
    {
      "cell_type": "code",
      "execution_count": 1,
      "metadata": {
        "colab": {
          "base_uri": "https://localhost:8080/"
        },
        "id": "eS05DVl2WZWP",
        "outputId": "d23566c8-dabb-46ce-e022-58e7545941df"
      },
      "outputs": [
        {
          "data": {
            "text/plain": [
              "576874"
            ]
          },
          "execution_count": 1,
          "metadata": {},
          "output_type": "execute_result"
        }
      ],
      "source": [
        "chrom = 'V'\n",
        "file_path = f'../data/genome/chr{chrom}.fsa'\n",
        "with open(file_path, 'r') as f:\n",
        "    segs = f.readlines()\n",
        "segs = [s.strip() for s in segs]\n",
        "chrom_seq = ''.join(segs)\n",
        "\n",
        "len(chrom_seq)"
      ]
    },
    {
      "cell_type": "code",
      "execution_count": 2,
      "metadata": {
        "colab": {
          "base_uri": "https://localhost:8080/"
        },
        "id": "45MDF9GD_GbG",
        "outputId": "20fcef59-586f-4bd2-d5d1-9bc5acc7e54d"
      },
      "outputs": [
        {
          "name": "stdout",
          "output_type": "stream",
          "text": [
            "A: 0.3060165651424748 C: 0.1903812617660009 G: 0.1946924285025846 T: 0.3089097445889397\n"
          ]
        }
      ],
      "source": [
        "# background dist\n",
        "A = C = G = T = 0\n",
        "for c in chrom_seq:\n",
        "  if c == 'A':\n",
        "    A += 1\n",
        "  elif c == 'C':\n",
        "    C += 1\n",
        "  elif c == 'G':\n",
        "    G += 1\n",
        "  else:\n",
        "    T += 1\n",
        "\n",
        "print(f\"A: {A/len(chrom_seq)} C: {C/len(chrom_seq)} G: {G/len(chrom_seq)} T: {T/len(chrom_seq)}\")"
      ]
    },
    {
      "cell_type": "code",
      "execution_count": 3,
      "metadata": {
        "id": "SNbPZ02nWEL0"
      },
      "outputs": [],
      "source": [
        "import re"
      ]
    },
    {
      "cell_type": "markdown",
      "metadata": {
        "id": "PMm112lQWdrM"
      },
      "source": [
        "Checking variations of GAAGAGC and GCTCTTC"
      ]
    },
    {
      "cell_type": "code",
      "execution_count": 4,
      "metadata": {
        "id": "9WpLPmBMVhvP"
      },
      "outputs": [],
      "source": [
        "def get_number_of(seq):\n",
        "  poses = [m.start() for m in re.finditer(seq, chrom_seq)]\n",
        "  return len(poses)"
      ]
    },
    {
      "cell_type": "code",
      "execution_count": 5,
      "metadata": {
        "colab": {
          "base_uri": "https://localhost:8080/"
        },
        "id": "eksBi7IVV_6M",
        "outputId": "0f585db9-cb55-40e3-951a-cade7829f6b9"
      },
      "outputs": [
        {
          "data": {
            "text/plain": [
              "120"
            ]
          },
          "execution_count": 5,
          "metadata": {},
          "output_type": "execute_result"
        }
      ],
      "source": [
        "get_number_of('GCTCTTC') + get_number_of('GAAGAGC')"
      ]
    },
    {
      "cell_type": "code",
      "execution_count": 6,
      "metadata": {
        "id": "UtgD-h_yWxZ-"
      },
      "outputs": [],
      "source": [
        "bases = ['A', 'C', 'G', 'T']\n",
        "def other_bases(b):\n",
        "  return [base for base in bases if base != b]"
      ]
    },
    {
      "cell_type": "code",
      "execution_count": 8,
      "metadata": {
        "id": "bGwJzxpGW49s"
      },
      "outputs": [],
      "source": [
        "def show_snp(seq):\n",
        "  print(f\"{seq} => {get_number_of(seq)}\")\n",
        "\n",
        "  total = 0\n",
        "  for pos in range(7):\n",
        "    obs = other_bases(seq[pos])\n",
        "    for ob in obs:\n",
        "      nseq = seq[:pos] + ob + seq[pos+1:]\n",
        "      num = get_number_of(nseq)\n",
        "      print(f\"{nseq} => {num}\")\n",
        "      total += num\n",
        "\n",
        "  print(f\"total {total}\")"
      ]
    },
    {
      "cell_type": "code",
      "execution_count": 9,
      "metadata": {
        "colab": {
          "base_uri": "https://localhost:8080/"
        },
        "id": "5fCdewPeYNVv",
        "outputId": "0b35472f-462c-42c3-d305-513d220c560e"
      },
      "outputs": [
        {
          "name": "stdout",
          "output_type": "stream",
          "text": [
            "GAAGAGC => 61\n",
            "AAAGAGC => 41\n",
            "CAAGAGC => 39\n",
            "TAAGAGC => 23\n",
            "GCAGAGC => 22\n",
            "GGAGAGC => 14\n",
            "GTAGAGC => 19\n",
            "GACGAGC => 15\n",
            "GAGGAGC => 15\n",
            "GATGAGC => 34\n",
            "GAAAAGC => 58\n",
            "GAACAGC => 31\n",
            "GAATAGC => 32\n",
            "GAAGCGC => 25\n",
            "GAAGGGC => 26\n",
            "GAAGTGC => 20\n",
            "GAAGAAC => 74\n",
            "GAAGACC => 44\n",
            "GAAGATC => 49\n",
            "GAAGAGA => 62\n",
            "GAAGAGG => 68\n",
            "GAAGAGT => 62\n",
            "total 773\n"
          ]
        }
      ],
      "source": [
        "show_snp('GAAGAGC')"
      ]
    },
    {
      "cell_type": "code",
      "execution_count": 10,
      "metadata": {
        "colab": {
          "base_uri": "https://localhost:8080/"
        },
        "id": "jee2cKgEaaVP",
        "outputId": "c366548e-039a-412e-c7fe-1b92daf9eb27"
      },
      "outputs": [
        {
          "name": "stdout",
          "output_type": "stream",
          "text": [
            "GCTCTTC => 59\n",
            "ACTCTTC => 57\n",
            "CCTCTTC => 55\n",
            "TCTCTTC => 88\n",
            "GATCTTC => 55\n",
            "GGTCTTC => 26\n",
            "GTTCTTC => 65\n",
            "GCACTTC => 22\n",
            "GCCCTTC => 18\n",
            "GCGCTTC => 16\n",
            "GCTATTC => 25\n",
            "GCTGTTC => 37\n",
            "GCTTTTC => 55\n",
            "GCTCATC => 32\n",
            "GCTCCTC => 21\n",
            "GCTCGTC => 9\n",
            "GCTCTAC => 23\n",
            "GCTCTCC => 15\n",
            "GCTCTGC => 9\n",
            "GCTCTTA => 21\n",
            "GCTCTTG => 28\n",
            "GCTCTTT => 52\n",
            "total 729\n"
          ]
        }
      ],
      "source": [
        "show_snp('GCTCTTC')"
      ]
    },
    {
      "cell_type": "code",
      "execution_count": 11,
      "metadata": {
        "colab": {
          "base_uri": "https://localhost:8080/"
        },
        "id": "_w7godCPadJP",
        "outputId": "c9696389-9a08-46d2-b46a-4098bfa62ec2"
      },
      "outputs": [
        {
          "name": "stdout",
          "output_type": "stream",
          "text": [
            "Sequence #\tSequence\t Cyclizability (n=26)\t Cyclizability (n=29)\t Cyclizability (n=31)\t C0\t Amplitude\t Phase\n",
            "1\tTTTCTTCACTTATCTCCCACCGTCCCGTCTCCTCCAAGCCCTGTTGTCTCTTACCCGGATGTTCAACCAAAAGCTGGCAGAAGACAAGGGAACGAAATAG\t -0.205912\t -0.781882\t 0.015182\t -0.069223\t -0.650093\t 0.211841\n",
            "2\tTTTCTTCACTTATCTCCCACCGTCCTCCAAGCCCTGTTGTCTCTTACCCGGATGTTCAACCAAAAGCTACTTACTGGCAGAAGACAAGGGAACGAAATAG\t -0.388233\t -0.563193\t -1.083431\t -0.688533\t -0.350048\t -2.110462\n",
            "3\tTTTCTTCACTTATCTCCCACCGTCCCCTGTTGTCTCTTACCCGGATGTTCAACCAAAAGCTACTTACTACCTTTAGGCAGAAGACAAGGGAACGAAATAG\t -0.947849\t 0.065416\t 0.277546\t -0.464485\t 0.584360\t -0.974048\n",
            "4\tTTTCTTCACTTATCTCCCACCGTCCTCTCTTACCCGGATGTTCAACCAAAAGCTACTTACTACCTTTATTTTATGGGCAGAAGACAAGGGAACGAAATAG\t 0.702216\t 0.541498\t -0.031338\t 0.383790\t 0.382364\t 0.984116\n"
          ]
        }
      ],
      "source": [
        "!head -5 \"../data/dataset_9.txt\""
      ]
    },
    {
      "cell_type": "code",
      "execution_count": 13,
      "metadata": {},
      "outputs": [
        {
          "name": "stdout",
          "output_type": "stream",
          "text": [
            "Collecting matplotlib\n",
            "  Downloading matplotlib-3.5.2-cp38-cp38-manylinux_2_5_x86_64.manylinux1_x86_64.whl (11.3 MB)\n",
            "\u001b[2K     \u001b[90m━━━━━━━━━━━━━━━━━━━━━━━━━━━━━━━━━━━━━━━\u001b[0m \u001b[32m11.3/11.3 MB\u001b[0m \u001b[31m315.9 kB/s\u001b[0m eta \u001b[36m0:00:00\u001b[0m00:01\u001b[0m00:01\u001b[0m\n",
            "\u001b[?25hRequirement already satisfied: packaging>=20.0 in /home/samin/workspace/research/DeepBend/deepbend-env/lib/python3.8/site-packages (from matplotlib) (21.3)\n",
            "Collecting cycler>=0.10\n",
            "  Using cached cycler-0.11.0-py3-none-any.whl (6.4 kB)\n",
            "Requirement already satisfied: python-dateutil>=2.7 in /home/samin/workspace/research/DeepBend/deepbend-env/lib/python3.8/site-packages (from matplotlib) (2.8.2)\n",
            "Requirement already satisfied: numpy>=1.17 in /home/samin/workspace/research/DeepBend/deepbend-env/lib/python3.8/site-packages (from matplotlib) (1.23.0)\n",
            "Collecting fonttools>=4.22.0\n",
            "  Downloading fonttools-4.33.3-py3-none-any.whl (930 kB)\n",
            "\u001b[2K     \u001b[90m━━━━━━━━━━━━━━━━━━━━━━━━━━━━━━━━━━━━━\u001b[0m \u001b[32m930.9/930.9 kB\u001b[0m \u001b[31m740.0 kB/s\u001b[0m eta \u001b[36m0:00:00\u001b[0m00:01\u001b[0m00:01\u001b[0m\n",
            "\u001b[?25hCollecting pillow>=6.2.0\n",
            "  Downloading Pillow-9.2.0-cp38-cp38-manylinux_2_28_x86_64.whl (3.2 MB)\n",
            "\u001b[2K     \u001b[90m━━━━━━━━━━━━━━━━━━━━━━━━━━━━━━━━━━━━━━━━\u001b[0m \u001b[32m3.2/3.2 MB\u001b[0m \u001b[31m724.9 kB/s\u001b[0m eta \u001b[36m0:00:00\u001b[0m00:01\u001b[0m00:01\u001b[0m\n",
            "\u001b[?25hRequirement already satisfied: pyparsing>=2.2.1 in /home/samin/workspace/research/DeepBend/deepbend-env/lib/python3.8/site-packages (from matplotlib) (3.0.9)\n",
            "Collecting kiwisolver>=1.0.1\n",
            "  Downloading kiwisolver-1.4.3-cp38-cp38-manylinux_2_5_x86_64.manylinux1_x86_64.whl (1.2 MB)\n",
            "\u001b[2K     \u001b[90m━━━━━━━━━━━━━━━━━━━━━━━━━━━━━━━━━━━━━━━━\u001b[0m \u001b[32m1.2/1.2 MB\u001b[0m \u001b[31m713.5 kB/s\u001b[0m eta \u001b[36m0:00:00\u001b[0ma \u001b[36m0:00:01\u001b[0m\n",
            "\u001b[?25hRequirement already satisfied: six>=1.5 in /home/samin/workspace/research/DeepBend/deepbend-env/lib/python3.8/site-packages (from python-dateutil>=2.7->matplotlib) (1.16.0)\n",
            "Installing collected packages: pillow, kiwisolver, fonttools, cycler, matplotlib\n",
            "Successfully installed cycler-0.11.0 fonttools-4.33.3 kiwisolver-1.4.3 matplotlib-3.5.2 pillow-9.2.0\n"
          ]
        }
      ],
      "source": [
        "!pip install matplotlib"
      ]
    },
    {
      "cell_type": "code",
      "execution_count": 14,
      "metadata": {
        "id": "bTUJNNtsFs0-"
      },
      "outputs": [],
      "source": [
        "import pandas as pd\n",
        "import numpy as np\n",
        "import matplotlib.pyplot as plt"
      ]
    },
    {
      "cell_type": "code",
      "execution_count": 15,
      "metadata": {
        "colab": {
          "base_uri": "https://localhost:8080/",
          "height": 424
        },
        "id": "xk0ljeCsFm2U",
        "outputId": "bd7561eb-5abe-4adb-f23b-588cf556d3e7"
      },
      "outputs": [
        {
          "data": {
            "text/html": [
              "<div>\n",
              "<style scoped>\n",
              "    .dataframe tbody tr th:only-of-type {\n",
              "        vertical-align: middle;\n",
              "    }\n",
              "\n",
              "    .dataframe tbody tr th {\n",
              "        vertical-align: top;\n",
              "    }\n",
              "\n",
              "    .dataframe thead th {\n",
              "        text-align: right;\n",
              "    }\n",
              "</style>\n",
              "<table border=\"1\" class=\"dataframe\">\n",
              "  <thead>\n",
              "    <tr style=\"text-align: right;\">\n",
              "      <th></th>\n",
              "      <th>Sequence #</th>\n",
              "      <th>Sequence</th>\n",
              "      <th>Cyclizability (n=26)</th>\n",
              "      <th>Cyclizability (n=29)</th>\n",
              "      <th>Cyclizability (n=31)</th>\n",
              "      <th>C0</th>\n",
              "      <th>Amplitude</th>\n",
              "      <th>Phase</th>\n",
              "    </tr>\n",
              "  </thead>\n",
              "  <tbody>\n",
              "    <tr>\n",
              "      <th>0</th>\n",
              "      <td>1</td>\n",
              "      <td>TTTCTTCACTTATCTCCCACCGTCCCGTCTCCTCCAAGCCCTGTTG...</td>\n",
              "      <td>-0.205912</td>\n",
              "      <td>-0.781882</td>\n",
              "      <td>0.015182</td>\n",
              "      <td>-0.069223</td>\n",
              "      <td>-0.650093</td>\n",
              "      <td>0.211841</td>\n",
              "    </tr>\n",
              "    <tr>\n",
              "      <th>1</th>\n",
              "      <td>2</td>\n",
              "      <td>TTTCTTCACTTATCTCCCACCGTCCTCCAAGCCCTGTTGTCTCTTA...</td>\n",
              "      <td>-0.388233</td>\n",
              "      <td>-0.563193</td>\n",
              "      <td>-1.083431</td>\n",
              "      <td>-0.688533</td>\n",
              "      <td>-0.350048</td>\n",
              "      <td>-2.110462</td>\n",
              "    </tr>\n",
              "    <tr>\n",
              "      <th>2</th>\n",
              "      <td>3</td>\n",
              "      <td>TTTCTTCACTTATCTCCCACCGTCCCCTGTTGTCTCTTACCCGGAT...</td>\n",
              "      <td>-0.947849</td>\n",
              "      <td>0.065416</td>\n",
              "      <td>0.277546</td>\n",
              "      <td>-0.464485</td>\n",
              "      <td>0.584360</td>\n",
              "      <td>-0.974048</td>\n",
              "    </tr>\n",
              "    <tr>\n",
              "      <th>3</th>\n",
              "      <td>4</td>\n",
              "      <td>TTTCTTCACTTATCTCCCACCGTCCTCTCTTACCCGGATGTTCAAC...</td>\n",
              "      <td>0.702216</td>\n",
              "      <td>0.541498</td>\n",
              "      <td>-0.031338</td>\n",
              "      <td>0.383790</td>\n",
              "      <td>0.382364</td>\n",
              "      <td>0.984116</td>\n",
              "    </tr>\n",
              "    <tr>\n",
              "      <th>4</th>\n",
              "      <td>5</td>\n",
              "      <td>TTTCTTCACTTATCTCCCACCGTCCCCCGGATGTTCAACCAAAAGC...</td>\n",
              "      <td>0.587374</td>\n",
              "      <td>-0.069926</td>\n",
              "      <td>-0.544434</td>\n",
              "      <td>0.122761</td>\n",
              "      <td>-0.467108</td>\n",
              "      <td>-1.467391</td>\n",
              "    </tr>\n",
              "    <tr>\n",
              "      <th>...</th>\n",
              "      <td>...</td>\n",
              "      <td>...</td>\n",
              "      <td>...</td>\n",
              "      <td>...</td>\n",
              "      <td>...</td>\n",
              "      <td>...</td>\n",
              "      <td>...</td>\n",
              "      <td>...</td>\n",
              "    </tr>\n",
              "    <tr>\n",
              "      <th>82399</th>\n",
              "      <td>82400</td>\n",
              "      <td>TTTCTTCACTTATCTCCCACCGTCCGAGGGCTATTTAGGGCTATTT...</td>\n",
              "      <td>1.258344</td>\n",
              "      <td>1.652875</td>\n",
              "      <td>1.891682</td>\n",
              "      <td>1.516590</td>\n",
              "      <td>0.263321</td>\n",
              "      <td>-1.374159</td>\n",
              "    </tr>\n",
              "    <tr>\n",
              "      <th>82400</th>\n",
              "      <td>82401</td>\n",
              "      <td>TTTCTTCACTTATCTCCCACCGTCCATTTAGGGCTATTTAGGGCTA...</td>\n",
              "      <td>2.016630</td>\n",
              "      <td>2.129109</td>\n",
              "      <td>1.819680</td>\n",
              "      <td>1.920989</td>\n",
              "      <td>0.221096</td>\n",
              "      <td>0.447351</td>\n",
              "    </tr>\n",
              "    <tr>\n",
              "      <th>82401</th>\n",
              "      <td>82402</td>\n",
              "      <td>TTTCTTCACTTATCTCCCACCGTCCGCTATTTAGGGCTATGTAGAA...</td>\n",
              "      <td>1.249375</td>\n",
              "      <td>0.327780</td>\n",
              "      <td>1.150162</td>\n",
              "      <td>1.264983</td>\n",
              "      <td>-0.795507</td>\n",
              "      <td>0.019621</td>\n",
              "    </tr>\n",
              "    <tr>\n",
              "      <th>82402</th>\n",
              "      <td>82403</td>\n",
              "      <td>TTTCTTCACTTATCTCCCACCGTCCAGGGCTATGTAGAAGTGCTGT...</td>\n",
              "      <td>-0.230605</td>\n",
              "      <td>1.164028</td>\n",
              "      <td>1.433024</td>\n",
              "      <td>0.424384</td>\n",
              "      <td>0.802236</td>\n",
              "      <td>-0.955243</td>\n",
              "    </tr>\n",
              "    <tr>\n",
              "      <th>82403</th>\n",
              "      <td>82404</td>\n",
              "      <td>TTTCTTCACTTATCTCCCACCGTCCTGTAGAAGTGCTGTAGGGCTA...</td>\n",
              "      <td>0.977008</td>\n",
              "      <td>0.887180</td>\n",
              "      <td>0.505204</td>\n",
              "      <td>0.771321</td>\n",
              "      <td>0.253718</td>\n",
              "      <td>0.945331</td>\n",
              "    </tr>\n",
              "  </tbody>\n",
              "</table>\n",
              "<p>82404 rows × 8 columns</p>\n",
              "</div>"
            ],
            "text/plain": [
              "       Sequence #                                           Sequence  \\\n",
              "0               1  TTTCTTCACTTATCTCCCACCGTCCCGTCTCCTCCAAGCCCTGTTG...   \n",
              "1               2  TTTCTTCACTTATCTCCCACCGTCCTCCAAGCCCTGTTGTCTCTTA...   \n",
              "2               3  TTTCTTCACTTATCTCCCACCGTCCCCTGTTGTCTCTTACCCGGAT...   \n",
              "3               4  TTTCTTCACTTATCTCCCACCGTCCTCTCTTACCCGGATGTTCAAC...   \n",
              "4               5  TTTCTTCACTTATCTCCCACCGTCCCCCGGATGTTCAACCAAAAGC...   \n",
              "...           ...                                                ...   \n",
              "82399       82400  TTTCTTCACTTATCTCCCACCGTCCGAGGGCTATTTAGGGCTATTT...   \n",
              "82400       82401  TTTCTTCACTTATCTCCCACCGTCCATTTAGGGCTATTTAGGGCTA...   \n",
              "82401       82402  TTTCTTCACTTATCTCCCACCGTCCGCTATTTAGGGCTATGTAGAA...   \n",
              "82402       82403  TTTCTTCACTTATCTCCCACCGTCCAGGGCTATGTAGAAGTGCTGT...   \n",
              "82403       82404  TTTCTTCACTTATCTCCCACCGTCCTGTAGAAGTGCTGTAGGGCTA...   \n",
              "\n",
              "        Cyclizability (n=26)   Cyclizability (n=29)   Cyclizability (n=31)  \\\n",
              "0                  -0.205912              -0.781882               0.015182   \n",
              "1                  -0.388233              -0.563193              -1.083431   \n",
              "2                  -0.947849               0.065416               0.277546   \n",
              "3                   0.702216               0.541498              -0.031338   \n",
              "4                   0.587374              -0.069926              -0.544434   \n",
              "...                      ...                    ...                    ...   \n",
              "82399               1.258344               1.652875               1.891682   \n",
              "82400               2.016630               2.129109               1.819680   \n",
              "82401               1.249375               0.327780               1.150162   \n",
              "82402              -0.230605               1.164028               1.433024   \n",
              "82403               0.977008               0.887180               0.505204   \n",
              "\n",
              "             C0   Amplitude     Phase  \n",
              "0     -0.069223   -0.650093  0.211841  \n",
              "1     -0.688533   -0.350048 -2.110462  \n",
              "2     -0.464485    0.584360 -0.974048  \n",
              "3      0.383790    0.382364  0.984116  \n",
              "4      0.122761   -0.467108 -1.467391  \n",
              "...         ...         ...       ...  \n",
              "82399  1.516590    0.263321 -1.374159  \n",
              "82400  1.920989    0.221096  0.447351  \n",
              "82401  1.264983   -0.795507  0.019621  \n",
              "82402  0.424384    0.802236 -0.955243  \n",
              "82403  0.771321    0.253718  0.945331  \n",
              "\n",
              "[82404 rows x 8 columns]"
            ]
          },
          "execution_count": 15,
          "metadata": {},
          "output_type": "execute_result"
        }
      ],
      "source": [
        "df = pd.read_csv(\"../data/dataset_9.txt\", sep=\"\\t\")\n",
        "df"
      ]
    },
    {
      "cell_type": "code",
      "execution_count": 16,
      "metadata": {
        "colab": {
          "base_uri": "https://localhost:8080/"
        },
        "id": "0lP4hMGdGCa8",
        "outputId": "fbdf715e-b001-4738-f1a0-ea769ba71261"
      },
      "outputs": [
        {
          "data": {
            "text/plain": [
              "50"
            ]
          },
          "execution_count": 16,
          "metadata": {},
          "output_type": "execute_result"
        }
      ],
      "source": [
        "seqs = []\n",
        "for seq in df[\"Sequence\"]:\n",
        "  seqs.append(seq[25:-25])\n",
        "seqs = np.array(seqs)\n",
        "len(seqs[0])"
      ]
    },
    {
      "cell_type": "code",
      "execution_count": 17,
      "metadata": {
        "colab": {
          "base_uri": "https://localhost:8080/"
        },
        "id": "GW9ZAk0UGXkN",
        "outputId": "221fdc25-1860-4d54-bee5-fd56ffbf782a"
      },
      "outputs": [
        {
          "data": {
            "text/plain": [
              "array([-0.069223, -0.688533, -0.464485, ...,  1.264983,  0.424384,\n",
              "        0.771321])"
            ]
          },
          "execution_count": 17,
          "metadata": {},
          "output_type": "execute_result"
        }
      ],
      "source": [
        "c_nots = df[\" C0\"].to_numpy()\n",
        "c_nots"
      ]
    },
    {
      "cell_type": "code",
      "execution_count": 18,
      "metadata": {
        "colab": {
          "base_uri": "https://localhost:8080/"
        },
        "id": "2NN-_UIsG5iF",
        "outputId": "68104cdc-5f06-4dea-dd42-f3b8a3ccd853"
      },
      "outputs": [
        {
          "data": {
            "text/plain": [
              "376"
            ]
          },
          "execution_count": 18,
          "metadata": {},
          "output_type": "execute_result"
        }
      ],
      "source": [
        "seq = 'GAAGAGC'\n",
        "c_nots_with_seq = [c_not for i, c_not in enumerate(c_nots) if seqs[i].find(seq) != -1]\n",
        "len(c_nots_with_seq) "
      ]
    },
    {
      "cell_type": "code",
      "execution_count": 19,
      "metadata": {
        "colab": {
          "base_uri": "https://localhost:8080/",
          "height": 404
        },
        "id": "GCtVSawOHdf1",
        "outputId": "d4b770f7-bee0-4793-9b95-b2ccbb6ee5db"
      },
      "outputs": [
        {
          "data": {
            "text/plain": [
              "{'whiskers': [<matplotlib.lines.Line2D at 0x7fafbc1f1460>,\n",
              "  <matplotlib.lines.Line2D at 0x7fafbc1f1730>],\n",
              " 'caps': [<matplotlib.lines.Line2D at 0x7fafbc1f1a00>,\n",
              "  <matplotlib.lines.Line2D at 0x7fafbc1f1cd0>],\n",
              " 'boxes': [<matplotlib.patches.PathPatch at 0x7fafbc1f10a0>],\n",
              " 'medians': [<matplotlib.lines.Line2D at 0x7fafbc1f1fa0>],\n",
              " 'fliers': [<matplotlib.lines.Line2D at 0x7fafbc2052b0>],\n",
              " 'means': []}"
            ]
          },
          "execution_count": 19,
          "metadata": {},
          "output_type": "execute_result"
        },
        {
          "data": {
            "image/png": "[encoded data removed]",
            "text/plain": [
              "<Figure size 432x288 with 1 Axes>"
            ]
          },
          "metadata": {
            "needs_background": "light"
          },
          "output_type": "display_data"
        }
      ],
      "source": [
        "plt.boxplot(c_nots_with_seq, \n",
        "            vert=False, \n",
        "            patch_artist=True, \n",
        "            notch=True, \n",
        "            boxprops=dict(facecolor='royalblue', linewidth=2), \n",
        "            medianprops=dict(linewidth=2),\n",
        "            whiskerprops=dict(linewidth=2),\n",
        "            capprops=dict(linewidth=2),\n",
        "            flierprops=dict(markerfacecolor='royalblue', markeredgewidth=2)\n",
        ")\n"
      ]
    },
    {
      "cell_type": "code",
      "execution_count": 20,
      "metadata": {
        "id": "IH9Z_jpZKAap"
      },
      "outputs": [],
      "source": [
        "my_dict = {}\n",
        "\n",
        "def get_cnots_with_seq(seq):\n",
        "  return [c_not for i, c_not in enumerate(c_nots) if seqs[i].find(seq) != -1]\n",
        "\n",
        "\n",
        "seq = 'GAAGAGC'\n",
        "my_dict[seq] = get_cnots_with_seq(seq)\n",
        "for pos in range(7):\n",
        "  obs = other_bases(seq[pos])\n",
        "  for ob in obs:\n",
        "    nseq = seq[:pos] + ob + seq[pos+1:]\n",
        "    my_dict[nseq] = get_cnots_with_seq(nseq)\n"
      ]
    },
    {
      "cell_type": "code",
      "execution_count": 21,
      "metadata": {},
      "outputs": [
        {
          "name": "stdout",
          "output_type": "stream",
          "text": [
            "Collecting seaborn\n",
            "  Downloading seaborn-0.11.2-py3-none-any.whl (292 kB)\n",
            "\u001b[2K     \u001b[90m━━━━━━━━━━━━━━━━━━━━━━━━━━━━━━━━━━━━━\u001b[0m \u001b[32m292.8/292.8 kB\u001b[0m \u001b[31m537.9 kB/s\u001b[0m eta \u001b[36m0:00:00\u001b[0ma \u001b[36m0:00:01\u001b[0m\n",
            "\u001b[?25hRequirement already satisfied: pandas>=0.23 in /home/samin/workspace/research/DeepBend/deepbend-env/lib/python3.8/site-packages (from seaborn) (1.4.3)\n",
            "Requirement already satisfied: scipy>=1.0 in /home/samin/workspace/research/DeepBend/deepbend-env/lib/python3.8/site-packages (from seaborn) (1.8.1)\n",
            "Requirement already satisfied: matplotlib>=2.2 in /home/samin/workspace/research/DeepBend/deepbend-env/lib/python3.8/site-packages (from seaborn) (3.5.2)\n",
            "Requirement already satisfied: numpy>=1.15 in /home/samin/workspace/research/DeepBend/deepbend-env/lib/python3.8/site-packages (from seaborn) (1.23.0)\n",
            "Requirement already satisfied: fonttools>=4.22.0 in /home/samin/workspace/research/DeepBend/deepbend-env/lib/python3.8/site-packages (from matplotlib>=2.2->seaborn) (4.33.3)\n",
            "Requirement already satisfied: pillow>=6.2.0 in /home/samin/workspace/research/DeepBend/deepbend-env/lib/python3.8/site-packages (from matplotlib>=2.2->seaborn) (9.2.0)\n",
            "Requirement already satisfied: kiwisolver>=1.0.1 in /home/samin/workspace/research/DeepBend/deepbend-env/lib/python3.8/site-packages (from matplotlib>=2.2->seaborn) (1.4.3)\n",
            "Requirement already satisfied: cycler>=0.10 in /home/samin/workspace/research/DeepBend/deepbend-env/lib/python3.8/site-packages (from matplotlib>=2.2->seaborn) (0.11.0)\n",
            "Requirement already satisfied: packaging>=20.0 in /home/samin/workspace/research/DeepBend/deepbend-env/lib/python3.8/site-packages (from matplotlib>=2.2->seaborn) (21.3)\n",
            "Requirement already satisfied: pyparsing>=2.2.1 in /home/samin/workspace/research/DeepBend/deepbend-env/lib/python3.8/site-packages (from matplotlib>=2.2->seaborn) (3.0.9)\n",
            "Requirement already satisfied: python-dateutil>=2.7 in /home/samin/workspace/research/DeepBend/deepbend-env/lib/python3.8/site-packages (from matplotlib>=2.2->seaborn) (2.8.2)\n",
            "Requirement already satisfied: pytz>=2020.1 in /home/samin/workspace/research/DeepBend/deepbend-env/lib/python3.8/site-packages (from pandas>=0.23->seaborn) (2022.1)\n",
            "Requirement already satisfied: six>=1.5 in /home/samin/workspace/research/DeepBend/deepbend-env/lib/python3.8/site-packages (from python-dateutil>=2.7->matplotlib>=2.2->seaborn) (1.16.0)\n",
            "Installing collected packages: seaborn\n",
            "Successfully installed seaborn-0.11.2\n"
          ]
        }
      ],
      "source": [
        "!pip install seaborn"
      ]
    },
    {
      "cell_type": "code",
      "execution_count": 22,
      "metadata": {
        "id": "t8mAEUMY1Erf"
      },
      "outputs": [],
      "source": [
        "import seaborn as sns\n",
        "import pandas as pd"
      ]
    },
    {
      "cell_type": "code",
      "execution_count": 24,
      "metadata": {
        "colab": {
          "base_uri": "https://localhost:8080/",
          "height": 769
        },
        "id": "O9uZUFMHJEE4",
        "outputId": "75f82742-362a-4d35-b876-42ff8630d66c"
      },
      "outputs": [
        {
          "data": {
            "image/png": "[encoded data removed]",
            "text/plain": [
              "<Figure size 720x864 with 1 Axes>"
            ]
          },
          "metadata": {
            "needs_background": "light"
          },
          "output_type": "display_data"
        }
      ],
      "source": [
        "fig, ax = plt.subplots()\n",
        "plt.boxplot(my_dict.values(), \n",
        "            vert=False, \n",
        "            patch_artist=True, \n",
        "            notch=True, \n",
        "            boxprops=dict(facecolor='royalblue', linewidth=3), \n",
        "            medianprops=dict(linewidth=3),\n",
        "            whiskerprops=dict(linewidth=3),\n",
        "            capprops=dict(linewidth=3),\n",
        "            flierprops=dict(markerfacecolor='royalblue', markeredgewidth=3)\n",
        ")\n",
        "\n",
        "ax.spines['top'].set_visible(False)\n",
        "ax.spines['right'].set_visible(False)\n",
        "xticks = [-2, -1, 0, 1, 2]\n",
        "ax.set_xticks(xticks)\n",
        "ax.set_xticklabels([str(x) for x in xticks], fontsize=24)\n",
        "ax.set_yticklabels(my_dict.keys(), fontsize=24)\n",
        "ax.spines['bottom'].set_linewidth(3)\n",
        "ax.spines['left'].set_linewidth(3)\n",
        "ax.xaxis.set_tick_params(width=3)\n",
        "ax.yaxis.set_tick_params(width=3)\n",
        "\n",
        "plt.gcf().set_size_inches(10, 12)\n",
        "# plt.savefig('boxplot.svg', format='svg')\n",
        "plt.show()"
      ]
    },
    {
      "cell_type": "code",
      "execution_count": 25,
      "metadata": {
        "id": "hvOOFDXFELiR"
      },
      "outputs": [],
      "source": [
        "def rc_complement(seq):\n",
        "  rc_dict = {'A': 'T', 'C': 'G', 'G': 'C', 'T': 'A'}\n",
        "  rc_seq = ''.join([rc_dict[c] for c in seq[::-1]])\n",
        "  return rc_seq"
      ]
    },
    {
      "cell_type": "code",
      "execution_count": 26,
      "metadata": {
        "id": "-CiXT3e1HlYO"
      },
      "outputs": [],
      "source": [
        "import itertools\n",
        "\n",
        "def generate_all_sequences_with(letters: str, len: int):\n",
        "     yield from itertools.product(*([letters] * len)) \n",
        "\n",
        "all_seqs_of_7 = []\n",
        "their_number = []\n",
        "for x in generate_all_sequences_with('ACGT', 7):\n",
        "  seq = ''.join(x)\n",
        "  all_seqs_of_7.append(seq)\n",
        "  their_number.append(get_number_of(seq) + get_number_of(rc_complement(seq)))"
      ]
    },
    {
      "cell_type": "code",
      "execution_count": 27,
      "metadata": {
        "colab": {
          "base_uri": "https://localhost:8080/",
          "height": 621
        },
        "id": "npXB5gbTP1Xo",
        "outputId": "c6ae58f5-50ff-49e7-a6a9-ef10102b7601"
      },
      "outputs": [
        {
          "data": {
            "image/png": "[encoded data removed]",
            "text/plain": [
              "<Figure size 1440x720 with 1 Axes>"
            ]
          },
          "metadata": {
            "needs_background": "light"
          },
          "output_type": "display_data"
        }
      ],
      "source": [
        "plt.hist(their_number, bins=100)\n",
        "\n",
        "ax = plt.gca()\n",
        "ax.spines['top'].set_visible(False)\n",
        "ax.spines['right'].set_visible(False)\n",
        "# ax.spines['bottom'].set_bounds((0, 50))\n",
        "yticks = [y for y in range(0, 1601, 200)]\n",
        "ax.set_yticks(yticks)\n",
        "ax.set_yticklabels([str(y) for y in yticks], fontsize=28)\n",
        "xticks = [x for x in range(0, 701, 50)]\n",
        "ax.set_xticks(xticks)\n",
        "ax.set_xticklabels([str(x) for x in xticks], fontsize=30)\n",
        "ax.spines['bottom'].set_linewidth(3)\n",
        "ax.spines['left'].set_linewidth(3)\n",
        "ax.xaxis.set_tick_params(width=3)\n",
        "ax.yaxis.set_tick_params(width=3)\n",
        "\n",
        "plt.gcf().set_size_inches(20, 10)\n",
        "\n",
        "# plt.savefig('fig.svg', format='svg')\n",
        "\n",
        "plt.show()"
      ]
    },
    {
      "cell_type": "code",
      "execution_count": 28,
      "metadata": {
        "colab": {
          "base_uri": "https://localhost:8080/"
        },
        "id": "PmbpETJKQ_Nv",
        "outputId": "f5b85575-5249-4911-f455-c62f9fcecb60"
      },
      "outputs": [
        {
          "name": "stdout",
          "output_type": "stream",
          "text": [
            "16384\n"
          ]
        }
      ],
      "source": [
        "print(len(all_seqs_of_7))"
      ]
    },
    {
      "cell_type": "code",
      "execution_count": 29,
      "metadata": {
        "colab": {
          "base_uri": "https://localhost:8080/"
        },
        "id": "UfgGkSwIGLOb",
        "outputId": "4224feeb-605e-46ff-abac-cf7a48cee59b"
      },
      "outputs": [
        {
          "name": "stdout",
          "output_type": "stream",
          "text": [
            "2256\n"
          ]
        }
      ],
      "source": [
        "count_1 = 0\n",
        "for number in their_number:\n",
        "  if number >= 120:\n",
        "    count_1 += 1\n",
        "\n",
        "print(count_1)\n"
      ]
    },
    {
      "cell_type": "code",
      "execution_count": null,
      "metadata": {
        "id": "NmttboelHqYm"
      },
      "outputs": [],
      "source": []
    }
  ],
  "metadata": {
    "colab": {
      "name": "bendability_exploratory_work_GAAGAGC.ipynb",
      "provenance": []
    },
    "kernelspec": {
      "display_name": "Python 3.8.10 ('deepbend-env': venv)",
      "language": "python",
      "name": "python3"
    },
    "language_info": {
      "codemirror_mode": {
        "name": "ipython",
        "version": 3
      },
      "file_extension": ".py",
      "mimetype": "text/x-python",
      "name": "python",
      "nbconvert_exporter": "python",
      "pygments_lexer": "ipython3",
      "version": "3.8.10"
    },
    "vscode": {
      "interpreter": {
        "hash": "d0f9fe73b68bd248018280ba37f5faad25818d271eb3294c5be67fe1097e0b0f"
      }
    }
  },
  "nbformat": 4,
  "nbformat_minor": 0
}
