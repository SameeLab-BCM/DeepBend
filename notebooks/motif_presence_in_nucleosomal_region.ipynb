{
  "cells": [
    {
      "cell_type": "code",
      "execution_count": 1,
      "metadata": {
        "id": "JlP6YweOJbAT"
      },
      "outputs": [],
      "source": [
        "import numpy as np\n",
        "import pandas as pd\n",
        "import matplotlib.pyplot as plt"
      ]
    },
    {
      "cell_type": "code",
      "execution_count": 2,
      "metadata": {
        "colab": {
          "base_uri": "https://localhost:8080/"
        },
        "id": "EO1a14ClJkDO",
        "outputId": "092d28f2-6b83-4bc7-cc86-b134cdfd871b"
      },
      "outputs": [
        {
          "name": "stdout",
          "output_type": "stream",
          "text": [
            "chrV          233      2.17       4.340\n",
            "chrV          414      2.02       4.040\n",
            "chrV          617      0.49       0.766\n",
            "chrV          740      0.49       0.980\n",
            "chrV          989      0.67       1.340\n",
            "chrV         1125      1.59       3.180\n",
            "chrV         1301      0.41       0.820\n",
            "chrV         1411      0.58       0.563\n",
            "chrV         1752      3.85       0.951\n",
            "chrV         1895      1.47       0.665\n"
          ]
        }
      ],
      "source": [
        "!head -10 \"../data/genome/Nucleosome_position_SerCer_chrV.txt\""
      ]
    },
    {
      "cell_type": "code",
      "execution_count": 3,
      "metadata": {
        "id": "_L8t6MsHKnB1"
      },
      "outputs": [
        {
          "data": {
            "text/html": [
              "<div>\n",
              "<style scoped>\n",
              "    .dataframe tbody tr th:only-of-type {\n",
              "        vertical-align: middle;\n",
              "    }\n",
              "\n",
              "    .dataframe tbody tr th {\n",
              "        vertical-align: top;\n",
              "    }\n",
              "\n",
              "    .dataframe thead th {\n",
              "        text-align: right;\n",
              "    }\n",
              "</style>\n",
              "<table border=\"1\" class=\"dataframe\">\n",
              "  <thead>\n",
              "    <tr style=\"text-align: right;\">\n",
              "      <th></th>\n",
              "      <th>0</th>\n",
              "      <th>1</th>\n",
              "      <th>2</th>\n",
              "      <th>3</th>\n",
              "    </tr>\n",
              "  </thead>\n",
              "  <tbody>\n",
              "    <tr>\n",
              "      <th>0</th>\n",
              "      <td>chrV</td>\n",
              "      <td>233</td>\n",
              "      <td>2.17</td>\n",
              "      <td>4.340</td>\n",
              "    </tr>\n",
              "    <tr>\n",
              "      <th>1</th>\n",
              "      <td>chrV</td>\n",
              "      <td>414</td>\n",
              "      <td>2.02</td>\n",
              "      <td>4.040</td>\n",
              "    </tr>\n",
              "    <tr>\n",
              "      <th>2</th>\n",
              "      <td>chrV</td>\n",
              "      <td>617</td>\n",
              "      <td>0.49</td>\n",
              "      <td>0.766</td>\n",
              "    </tr>\n",
              "    <tr>\n",
              "      <th>3</th>\n",
              "      <td>chrV</td>\n",
              "      <td>740</td>\n",
              "      <td>0.49</td>\n",
              "      <td>0.980</td>\n",
              "    </tr>\n",
              "    <tr>\n",
              "      <th>4</th>\n",
              "      <td>chrV</td>\n",
              "      <td>989</td>\n",
              "      <td>0.67</td>\n",
              "      <td>1.340</td>\n",
              "    </tr>\n",
              "    <tr>\n",
              "      <th>...</th>\n",
              "      <td>...</td>\n",
              "      <td>...</td>\n",
              "      <td>...</td>\n",
              "      <td>...</td>\n",
              "    </tr>\n",
              "    <tr>\n",
              "      <th>3187</th>\n",
              "      <td>chrV</td>\n",
              "      <td>575662</td>\n",
              "      <td>0.34</td>\n",
              "      <td>0.680</td>\n",
              "    </tr>\n",
              "    <tr>\n",
              "      <th>3188</th>\n",
              "      <td>chrV</td>\n",
              "      <td>576011</td>\n",
              "      <td>0.40</td>\n",
              "      <td>0.800</td>\n",
              "    </tr>\n",
              "    <tr>\n",
              "      <th>3189</th>\n",
              "      <td>chrV</td>\n",
              "      <td>576194</td>\n",
              "      <td>0.39</td>\n",
              "      <td>0.780</td>\n",
              "    </tr>\n",
              "    <tr>\n",
              "      <th>3190</th>\n",
              "      <td>chrV</td>\n",
              "      <td>576401</td>\n",
              "      <td>0.55</td>\n",
              "      <td>1.100</td>\n",
              "    </tr>\n",
              "    <tr>\n",
              "      <th>3191</th>\n",
              "      <td>chrV</td>\n",
              "      <td>576551</td>\n",
              "      <td>0.74</td>\n",
              "      <td>1.480</td>\n",
              "    </tr>\n",
              "  </tbody>\n",
              "</table>\n",
              "<p>3192 rows × 4 columns</p>\n",
              "</div>"
            ],
            "text/plain": [
              "         0       1     2      3\n",
              "0     chrV     233  2.17  4.340\n",
              "1     chrV     414  2.02  4.040\n",
              "2     chrV     617  0.49  0.766\n",
              "3     chrV     740  0.49  0.980\n",
              "4     chrV     989  0.67  1.340\n",
              "...    ...     ...   ...    ...\n",
              "3187  chrV  575662  0.34  0.680\n",
              "3188  chrV  576011  0.40  0.800\n",
              "3189  chrV  576194  0.39  0.780\n",
              "3190  chrV  576401  0.55  1.100\n",
              "3191  chrV  576551  0.74  1.480\n",
              "\n",
              "[3192 rows x 4 columns]"
            ]
          },
          "execution_count": 3,
          "metadata": {},
          "output_type": "execute_result"
        }
      ],
      "source": [
        "df = pd.read_table(\"../data/genome/Nucleosome_position_SerCer_chrV.txt\", sep=r\"\\s+\", header=None)\n",
        "df"
      ]
    },
    {
      "cell_type": "code",
      "execution_count": 9,
      "metadata": {
        "colab": {
          "base_uri": "https://localhost:8080/"
        },
        "id": "ThwfgvZ6Mpxi",
        "outputId": "d4fefb97-3985-4ee7-c793-8ffdad89663f"
      },
      "outputs": [
        {
          "data": {
            "text/plain": [
              "array([   233,    414,    617, ..., 576194, 576401, 576551])"
            ]
          },
          "execution_count": 9,
          "metadata": {},
          "output_type": "execute_result"
        }
      ],
      "source": [
        "pos = df[1].to_numpy(dtype=int)\n",
        "pos"
      ]
    },
    {
      "cell_type": "code",
      "execution_count": 5,
      "metadata": {
        "id": "wqEYNlwCL7Dj"
      },
      "outputs": [],
      "source": [
        "def plot_motif_enr_around_nuc(enr_around_nuc):\n",
        "\n",
        "  mean_pos_enr_around_nuc = np.mean(enr_around_nuc, axis=0)\n",
        "  avg_rng = 10\n",
        "\n",
        "  num_pos = mean_pos_enr_around_nuc.shape[0]\n",
        "  print(num_pos)\n",
        "  cumsum = np.zeros(num_pos)\n",
        "  running_avg = np.zeros(num_pos)\n",
        "  for i in range(num_pos):\n",
        "      cumsum[i] = mean_pos_enr_around_nuc[i]\n",
        "      if i > 0:\n",
        "          cumsum[i] += cumsum[i-1]\n",
        "\n",
        "  for i in range(num_pos):\n",
        "      start_pos = max(0, i - avg_rng)\n",
        "      end_pos = min(num_pos-1, i + avg_rng)\n",
        "      running_avg[i] = cumsum[end_pos]\n",
        "      if start_pos > 0:\n",
        "          running_avg[i] -= cumsum[start_pos-1]\n",
        "      running_avg[i] /= (end_pos - start_pos + 1)\n",
        "\n",
        "  plt.plot(np.arange(-150, 150), running_avg, linewidth=3)\n",
        "  plt.axvline(0, color='black', linestyle='dashed', linewidth=2)\n",
        "  plt.axvspan(-45, 45, color='green', alpha=.25)\n",
        "  plt.axvspan(50, 125, color='red', alpha=.25)\n",
        "  plt.axvspan(-50, -125, color='red', alpha=.25)\n",
        "\n",
        "  ax = plt.gca()\n",
        "\n",
        "  ax.spines['top'].set_visible(False)\n",
        "  ax.spines['right'].set_visible(False)\n",
        "\n",
        "  hi = np.max(running_avg)\n",
        "  mid = np.mean(running_avg)\n",
        "  lo = np.min(running_avg)\n",
        "\n",
        "  print(hi, mid, lo)\n",
        "\n",
        "  ax.spines['bottom'].set_bounds((-150, 150))\n",
        "  ax.spines['left'].set_bounds((lo, hi))\n",
        "  ax.set_yticks([lo, mid, hi])\n",
        "  ax.set_yticklabels([str(round(lo, 5)), str(round(mid, 5)), str(round(hi, 5))], fontsize=25)\n",
        "  ax.set_xticks([-150, 0, 150])\n",
        "  ax.set_xticklabels(['-150', '0', '150'], fontsize=25)\n",
        "  ax.spines['bottom'].set_linewidth(3)\n",
        "  ax.spines['left'].set_linewidth(3)\n",
        "  ax.xaxis.set_tick_params(width=3)\n",
        "  ax.yaxis.set_tick_params(width=3)\n",
        "\n",
        "  plt.xlabel('Position from nucleosomes', fontsize=25)\n",
        "  plt.ylabel(f'Enrichment of motif', fontsize=25)\n",
        "\n",
        "  plt.gcf().set_size_inches(7, 5)\n",
        "\n",
        "  # plt.savefig('plot_.svg', format='svg')\n",
        "  plt.show()"
      ]
    },
    {
      "cell_type": "code",
      "execution_count": 7,
      "metadata": {
        "id": "GqPf5KHq22l6"
      },
      "outputs": [],
      "source": [
        "# Only matching scores of #137 and #245 is uploaded in the repo\n",
        "\n",
        "motif_num = 137\n",
        "\n",
        "motif_enr = np.loadtxt(f\"../data/motif_matching_scores/motif_{motif_num}.txt\").clip(min=0)"
      ]
    },
    {
      "cell_type": "code",
      "execution_count": 10,
      "metadata": {
        "id": "9sEX68Ut29fw"
      },
      "outputs": [],
      "source": [
        "enr_around_nuc = []\n",
        "rng = 150\n",
        "for i in range(pos.shape[0]):\n",
        "  enr_around_nuc.append(motif_enr[pos[i]-rng:pos[i]+rng])\n",
        "enr_around_nuc = np.vstack(enr_around_nuc)"
      ]
    },
    {
      "cell_type": "code",
      "execution_count": 11,
      "metadata": {
        "colab": {
          "base_uri": "https://localhost:8080/",
          "height": 408
        },
        "id": "rEsWlm-S3oGN",
        "outputId": "21cd1de5-07ad-4645-d58f-e0064250e870"
      },
      "outputs": [
        {
          "name": "stdout",
          "output_type": "stream",
          "text": [
            "300\n",
            "0.0008201408167364122 0.0007311769541071602 0.0006573825585545927\n"
          ]
        },
        {
          "data": {
            "image/png": "[encoded data removed]",
            "text/plain": [
              "<Figure size 504x360 with 1 Axes>"
            ]
          },
          "metadata": {
            "needs_background": "light"
          },
          "output_type": "display_data"
        }
      ],
      "source": [
        "plot_motif_enr_around_nuc(enr_around_nuc)"
      ]
    },
    {
      "cell_type": "code",
      "execution_count": null,
      "metadata": {
        "id": "RKITa1K87aRc"
      },
      "outputs": [],
      "source": []
    }
  ],
  "metadata": {
    "colab": {
      "collapsed_sections": [],
      "name": "bendability_motif_enrichment.ipynb",
      "provenance": []
    },
    "kernelspec": {
      "display_name": "Python 3.8.10 ('deepbend-env': venv)",
      "language": "python",
      "name": "python3"
    },
    "language_info": {
      "codemirror_mode": {
        "name": "ipython",
        "version": 3
      },
      "file_extension": ".py",
      "mimetype": "text/x-python",
      "name": "python",
      "nbconvert_exporter": "python",
      "pygments_lexer": "ipython3",
      "version": "3.8.10"
    },
    "vscode": {
      "interpreter": {
        "hash": "d0f9fe73b68bd248018280ba37f5faad25818d271eb3294c5be67fe1097e0b0f"
      }
    }
  },
  "nbformat": 4,
  "nbformat_minor": 0
}
